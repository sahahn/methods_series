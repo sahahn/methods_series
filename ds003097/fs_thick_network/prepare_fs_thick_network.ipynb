{
 "cells": [
  {
   "cell_type": "markdown",
   "id": "noble-express",
   "metadata": {},
   "source": [
    "`datalad get derivatives/freesurfer/sub-*/label/*.aparc.a2009s.annot derivatives/freesurfer/sub-*/surf/*.thickness`"
   ]
  },
  {
   "cell_type": "code",
   "execution_count": 1,
   "id": "fixed-marble",
   "metadata": {},
   "outputs": [],
   "source": [
    "from neurotools.transform.network import gen_fs_subj_vertex_network\n",
    "import numpy as np\n",
    "import os\n",
    "from os.path import dirname, abspath"
   ]
  },
  {
   "cell_type": "code",
   "execution_count": 2,
   "id": "italic-leather",
   "metadata": {},
   "outputs": [],
   "source": [
    "# Useful directories\n",
    "main_dr = dirname(abspath(os.getcwd()))\n",
    "data_dr = os.path.join(main_dr, 'data')\n",
    "deriv_dr = os.path.join(data_dr, 'ds003097', 'derivatives')\n",
    "save_dr = os.path.join(deriv_dr, 'fs_networks')"
   ]
  },
  {
   "cell_type": "code",
   "execution_count": 3,
   "id": "expected-surveillance",
   "metadata": {},
   "outputs": [],
   "source": [
    "def proc_subj(subj_dr, modality='thickness'):\n",
    "        \n",
    "    # Get subject name from path\n",
    "    subj_name = os.path.basename(subj_dr)\n",
    "    \n",
    "    # Gen subject save folder + loc\n",
    "    subj_save_dr = os.path.join(save_dr, subj_name)\n",
    "    os.makedirs(subj_save_dr, exist_ok=True)\n",
    "    save_loc = os.path.join(subj_save_dr, modality + '.npy')\n",
    "    \n",
    "    # Skip if already processed\n",
    "    if os.path.exists(save_loc):\n",
    "        return save_loc\n",
    "\n",
    "    # Gen network\n",
    "    network = gen_fs_subj_vertex_network(subj_dr, modality=modality,\n",
    "                                         discard_diagonal=True, vectorize=True)\n",
    "\n",
    "    \n",
    "    # Save\n",
    "    np.save(save_loc, network)\n",
    "    \n",
    "    return save_loc"
   ]
  },
  {
   "cell_type": "code",
   "execution_count": 4,
   "id": "brilliant-factory",
   "metadata": {},
   "outputs": [],
   "source": [
    "# Get all subject directory paths\n",
    "fs_dr = os.path.join(deriv_dr, 'freesurfer')\n",
    "subj_drs = [os.path.join(fs_dr, s) for s in os.listdir(fs_dr) if 'sub-' in s]"
   ]
  },
  {
   "cell_type": "code",
   "execution_count": 5,
   "id": "varied-magnitude",
   "metadata": {},
   "outputs": [
    {
     "data": {
      "text/plain": [
       "(11026,)"
      ]
     },
     "execution_count": 5,
     "metadata": {},
     "output_type": "execute_result"
    }
   ],
   "source": [
    "# Process one example - make sure works\n",
    "save_loc = proc_subj(subj_drs[0])\n",
    "\n",
    "ex_network = np.load(save_loc)\n",
    "ex_network.shape"
   ]
  },
  {
   "cell_type": "markdown",
   "id": "separate-messaging",
   "metadata": {},
   "source": [
    "Now, with multi-processing, process all subject's data. Note: this is not a particularlly fast operation, for convience, functionality to start and stop has been added to the function, that is to say, the function will skip any that have already been processed so that this function can be started and stopped."
   ]
  },
  {
   "cell_type": "code",
   "execution_count": 6,
   "id": "driven-secretary",
   "metadata": {},
   "outputs": [],
   "source": [
    "from joblib import Parallel, delayed\n",
    "paths = Parallel(n_jobs=-1)(delayed(proc_subj)(subj_dr) for subj_dr in subj_drs)"
   ]
  },
  {
   "cell_type": "markdown",
   "id": "sweet-credit",
   "metadata": {},
   "source": [
    "We next want to make sure that all of the processed files are valid / comparible, as in some cases freesurfer will skip regions"
   ]
  },
  {
   "cell_type": "code",
   "execution_count": 7,
   "id": "compound-domain",
   "metadata": {},
   "outputs": [],
   "source": [
    "# Load and get length of all\n",
    "lens = np.array([np.load(path).shape[0] for path in paths])\n",
    "\n",
    "# Keep only most common length\n",
    "u_lens, cnts = np.unique(lens, return_counts=True)\n",
    "keep_len = u_lens[np.argmax(cnts)]\n",
    "\n",
    "# Remove\n",
    "to_remove = np.array(paths)[lens != keep_len]\n",
    "for path in to_remove:\n",
    "    os.remove(path)"
   ]
  },
  {
   "cell_type": "code",
   "execution_count": 8,
   "id": "second-hearing",
   "metadata": {},
   "outputs": [
    {
     "name": "stderr",
     "output_type": "stream",
     "text": [
      "/home/sage/anaconda3/envs/bpt/lib/python3.9/site-packages/nilearn/datasets/__init__.py:93: FutureWarning: Fetchers from the nilearn.datasets module will be updated in version 0.9 to return python strings instead of bytes and Pandas dataframes instead of Numpy arrays.\n",
      "  warn(\"Fetchers from the nilearn.datasets module will be \"\n"
     ]
    },
    {
     "data": {
      "text/plain": [
       "(928, 5)"
      ]
     },
     "execution_count": 8,
     "metadata": {},
     "output_type": "execute_result"
    }
   ],
   "source": [
    "import BPt as bp\n",
    "\n",
    "# Load the base template dataframe with targets loaded\n",
    "data = bp.read_pickle(os.path.join(data_dr, 'datasets', 'template.dataset'))\n",
    "data.shape"
   ]
  },
  {
   "cell_type": "code",
   "execution_count": 9,
   "id": "aquatic-musician",
   "metadata": {},
   "outputs": [
    {
     "name": "stdout",
     "output_type": "stream",
     "text": [
      "Setting NaN threshold to: 0.5\n",
      "Dropped 1 Rows\n"
     ]
    },
    {
     "data": {
      "text/html": [
       "<div style=\"float: left; padding: 10px;\">\n",
       "        <h3>Data</h3><div>\n",
       "<style scoped>\n",
       "    .dataframe tbody tr th:only-of-type {\n",
       "        vertical-align: middle;\n",
       "    }\n",
       "\n",
       "    .dataframe tbody tr th {\n",
       "        vertical-align: top;\n",
       "    }\n",
       "\n",
       "    .dataframe thead th {\n",
       "        text-align: right;\n",
       "    }\n",
       "</style>\n",
       "<table border=\"1\" class=\"dataframe\">\n",
       "  <thead>\n",
       "    <tr style=\"text-align: right;\">\n",
       "      <th></th>\n",
       "      <th>thick_network_edges</th>\n",
       "    </tr>\n",
       "    <tr>\n",
       "      <th>participant_id</th>\n",
       "      <th></th>\n",
       "    </tr>\n",
       "  </thead>\n",
       "  <tbody>\n",
       "    <tr>\n",
       "      <th>sub-0001</th>\n",
       "      <td>Loc(556)</td>\n",
       "    </tr>\n",
       "    <tr>\n",
       "      <th>sub-0002</th>\n",
       "      <td>Loc(808)</td>\n",
       "    </tr>\n",
       "    <tr>\n",
       "      <th>sub-0003</th>\n",
       "      <td>Loc(283)</td>\n",
       "    </tr>\n",
       "    <tr>\n",
       "      <th>sub-0004</th>\n",
       "      <td>Loc(820)</td>\n",
       "    </tr>\n",
       "    <tr>\n",
       "      <th>sub-0005</th>\n",
       "      <td>Loc(312)</td>\n",
       "    </tr>\n",
       "    <tr>\n",
       "      <th>...</th>\n",
       "      <td>...</td>\n",
       "    </tr>\n",
       "    <tr>\n",
       "      <th>sub-0924</th>\n",
       "      <td>Loc(815)</td>\n",
       "    </tr>\n",
       "    <tr>\n",
       "      <th>sub-0925</th>\n",
       "      <td>Loc(444)</td>\n",
       "    </tr>\n",
       "    <tr>\n",
       "      <th>sub-0926</th>\n",
       "      <td>Loc(555)</td>\n",
       "    </tr>\n",
       "    <tr>\n",
       "      <th>sub-0927</th>\n",
       "      <td>Loc(463)</td>\n",
       "    </tr>\n",
       "    <tr>\n",
       "      <th>sub-0928</th>\n",
       "      <td>Loc(846)</td>\n",
       "    </tr>\n",
       "  </tbody>\n",
       "</table>\n",
       "<p>927 rows × 1 columns</p>\n",
       "</div></div>\n",
       "<div style=\"float: left; padding: 10px;\">\n",
       "        <h3>Targets</h3><div>\n",
       "<style scoped>\n",
       "    .dataframe tbody tr th:only-of-type {\n",
       "        vertical-align: middle;\n",
       "    }\n",
       "\n",
       "    .dataframe tbody tr th {\n",
       "        vertical-align: top;\n",
       "    }\n",
       "\n",
       "    .dataframe thead th {\n",
       "        text-align: right;\n",
       "    }\n",
       "</style>\n",
       "<table border=\"1\" class=\"dataframe\">\n",
       "  <thead>\n",
       "    <tr style=\"text-align: right;\">\n",
       "      <th></th>\n",
       "      <th>BMI</th>\n",
       "      <th>IST_intelligence_total</th>\n",
       "      <th>age</th>\n",
       "      <th>education_level</th>\n",
       "      <th>sex</th>\n",
       "    </tr>\n",
       "    <tr>\n",
       "      <th>participant_id</th>\n",
       "      <th></th>\n",
       "      <th></th>\n",
       "      <th></th>\n",
       "      <th></th>\n",
       "      <th></th>\n",
       "    </tr>\n",
       "  </thead>\n",
       "  <tbody>\n",
       "    <tr>\n",
       "      <th>sub-0001</th>\n",
       "      <td>23.0</td>\n",
       "      <td>159.0</td>\n",
       "      <td>22.00</td>\n",
       "      <td>2</td>\n",
       "      <td>0</td>\n",
       "    </tr>\n",
       "    <tr>\n",
       "      <th>sub-0002</th>\n",
       "      <td>20.0</td>\n",
       "      <td>199.0</td>\n",
       "      <td>21.75</td>\n",
       "      <td>2</td>\n",
       "      <td>0</td>\n",
       "    </tr>\n",
       "    <tr>\n",
       "      <th>sub-0003</th>\n",
       "      <td>31.0</td>\n",
       "      <td>227.0</td>\n",
       "      <td>25.25</td>\n",
       "      <td>0</td>\n",
       "      <td>0</td>\n",
       "    </tr>\n",
       "    <tr>\n",
       "      <th>sub-0004</th>\n",
       "      <td>20.0</td>\n",
       "      <td>270.0</td>\n",
       "      <td>22.50</td>\n",
       "      <td>0</td>\n",
       "      <td>0</td>\n",
       "    </tr>\n",
       "    <tr>\n",
       "      <th>sub-0005</th>\n",
       "      <td>23.0</td>\n",
       "      <td>212.0</td>\n",
       "      <td>22.25</td>\n",
       "      <td>0</td>\n",
       "      <td>1</td>\n",
       "    </tr>\n",
       "    <tr>\n",
       "      <th>...</th>\n",
       "      <td>...</td>\n",
       "      <td>...</td>\n",
       "      <td>...</td>\n",
       "      <td>...</td>\n",
       "      <td>...</td>\n",
       "    </tr>\n",
       "    <tr>\n",
       "      <th>sub-0924</th>\n",
       "      <td>21.0</td>\n",
       "      <td>246.0</td>\n",
       "      <td>22.25</td>\n",
       "      <td>2</td>\n",
       "      <td>1</td>\n",
       "    </tr>\n",
       "    <tr>\n",
       "      <th>sub-0925</th>\n",
       "      <td>30.0</td>\n",
       "      <td>150.0</td>\n",
       "      <td>25.25</td>\n",
       "      <td>2</td>\n",
       "      <td>1</td>\n",
       "    </tr>\n",
       "    <tr>\n",
       "      <th>sub-0926</th>\n",
       "      <td>22.0</td>\n",
       "      <td>161.0</td>\n",
       "      <td>20.75</td>\n",
       "      <td>0</td>\n",
       "      <td>1</td>\n",
       "    </tr>\n",
       "    <tr>\n",
       "      <th>sub-0927</th>\n",
       "      <td>35.0</td>\n",
       "      <td>190.0</td>\n",
       "      <td>24.25</td>\n",
       "      <td>2</td>\n",
       "      <td>0</td>\n",
       "    </tr>\n",
       "    <tr>\n",
       "      <th>sub-0928</th>\n",
       "      <td>19.0</td>\n",
       "      <td>243.0</td>\n",
       "      <td>20.50</td>\n",
       "      <td>0</td>\n",
       "      <td>1</td>\n",
       "    </tr>\n",
       "  </tbody>\n",
       "</table>\n",
       "<p>927 rows × 5 columns</p>\n",
       "</div></div>\n"
      ],
      "text/plain": [
       "                 BMI  IST_intelligence_total    age sex education_level  \\\n",
       "participant_id                                                            \n",
       "sub-0001        23.0                   159.0  22.00   0               2   \n",
       "sub-0002        20.0                   199.0  21.75   0               2   \n",
       "sub-0003        31.0                   227.0  25.25   0               0   \n",
       "sub-0004        20.0                   270.0  22.50   0               0   \n",
       "sub-0005        23.0                   212.0  22.25   1               0   \n",
       "...              ...                     ...    ...  ..             ...   \n",
       "sub-0924        21.0                   246.0  22.25   1               2   \n",
       "sub-0925        30.0                   150.0  25.25   1               2   \n",
       "sub-0926        22.0                   161.0  20.75   1               0   \n",
       "sub-0927        35.0                   190.0  24.25   0               2   \n",
       "sub-0928        19.0                   243.0  20.50   1               0   \n",
       "\n",
       "                thick_network_edges  \n",
       "participant_id                       \n",
       "sub-0001                      556.0  \n",
       "sub-0002                      808.0  \n",
       "sub-0003                      283.0  \n",
       "sub-0004                      820.0  \n",
       "sub-0005                      312.0  \n",
       "...                             ...  \n",
       "sub-0924                      815.0  \n",
       "sub-0925                      444.0  \n",
       "sub-0926                      555.0  \n",
       "sub-0927                      463.0  \n",
       "sub-0928                      846.0  \n",
       "\n",
       "[927 rows x 6 columns]"
      ]
     },
     "execution_count": 9,
     "metadata": {},
     "output_type": "execute_result"
    }
   ],
   "source": [
    "# We use file globbing here to specify which files we want to 'load'\n",
    "files = {'thick_network_edges': os.path.join(save_dr, 'sub-*', 'thickness.npy')}\n",
    "\n",
    "# Add as data files\n",
    "data = data.add_data_files(files, file_to_subject='auto')\n",
    "\n",
    "# Drop any subjects with missing data file\n",
    "data = data.drop_subjects_by_nan(scope='data')\n",
    "\n",
    "data"
   ]
  },
  {
   "cell_type": "code",
   "execution_count": 12,
   "id": "collect-manitoba",
   "metadata": {},
   "outputs": [
    {
     "name": "stdout",
     "output_type": "stream",
     "text": [
      "thick_network_edges: 927 rows\n"
     ]
    },
    {
     "data": {
      "image/png": "[encoded data removed]",
      "text/plain": [
       "<Figure size 432x288 with 1 Axes>"
      ]
     },
     "metadata": {
      "needs_background": "light"
     },
     "output_type": "display_data"
    }
   ],
   "source": [
    "# Plot mean values of edge weights\n",
    "data.plot(scope='data')"
   ]
  },
  {
   "cell_type": "code",
   "execution_count": null,
   "id": "german-aspect",
   "metadata": {},
   "outputs": [],
   "source": []
  },
  {
   "cell_type": "code",
   "execution_count": 13,
   "id": "middle-nickname",
   "metadata": {},
   "outputs": [],
   "source": [
    "# Lastly, save the dataset\n",
    "data.to_pickle(os.path.join(data_dr, 'datasets', 'fs_thick_network.dataset'))"
   ]
  }
 ],
 "metadata": {
  "kernelspec": {
   "display_name": "bpt",
   "language": "python",
   "name": "myenv"
  },
  "language_info": {
   "codemirror_mode": {
    "name": "ipython",
    "version": 3
   },
   "file_extension": ".py",
   "mimetype": "text/x-python",
   "name": "python",
   "nbconvert_exporter": "python",
   "pygments_lexer": "ipython3",
   "version": "3.9.1"
  }
 },
 "nbformat": 4,
 "nbformat_minor": 5
}
