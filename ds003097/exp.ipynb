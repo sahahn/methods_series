{
 "cells": [
  {
   "cell_type": "markdown",
   "id": "clean-november",
   "metadata": {},
   "source": [
    "An alternate idea, something along the lines of this one is to use the same divergence metric, but calculate it between a subject's roi (or all of their vertex) pairwise between the same roi from every other subject.\n",
    "\n",
    "In an ML context, this would be calculate it between every subject in the training set, and then set as the mean."
   ]
  },
  {
   "cell_type": "code",
   "execution_count": 1,
   "id": "illegal-specialist",
   "metadata": {},
   "outputs": [],
   "source": [
    "import numpy as np\n",
    "from neurotools.loading import load\n",
    "from neurotools.transform.network import _load_fs_subj_data\n",
    "from scipy.stats import ks_2samp\n",
    "import os\n",
    "from itertools import combinations"
   ]
  },
  {
   "cell_type": "code",
   "execution_count": 2,
   "id": "catholic-genome",
   "metadata": {},
   "outputs": [],
   "source": [
    "data_dr = 'data/ds003097/derivatives/freesurfer/'\n",
    "subj_drs = [os.path.join(data_dr, s) for s in os.listdir(data_dr) if 'sub-' in s]\n",
    "subj_drs = subj_drs[:10]"
   ]
  },
  {
   "cell_type": "code",
   "execution_count": 3,
   "id": "wound-korea",
   "metadata": {},
   "outputs": [],
   "source": [
    "def compare_subjs(subj_dr1, subj_dr2, modality='thickness', parc='aparc.a2009s.annot'):\n",
    "    \n",
    "    data1, labels1 = _load_fs_subj_data(subj_dr1, modality, parc)\n",
    "    data2, labels2 = _load_fs_subj_data(subj_dr2, modality, parc)\n",
    "    \n",
    "    difs = np.zeros(len(np.unique(labels1)))\n",
    "    for i, u in enumerate(np.unique(labels1)):\n",
    "        difs[i] = ks_2samp(data1[labels1==u], data2[labels2==u]).statistic\n",
    "        \n",
    "    return difs"
   ]
  },
  {
   "cell_type": "code",
   "execution_count": 4,
   "id": "reliable-arnold",
   "metadata": {},
   "outputs": [],
   "source": [
    "def generate_differences(subjs, train_subjs):\n",
    "    \n",
    "    all_difs = []\n",
    "    cache = {}\n",
    "    \n",
    "    for subj in subjs:\n",
    "        print(subj)\n",
    "        \n",
    "        subj_difs = []\n",
    "        for t_subj in train_subjs:\n",
    "            \n",
    "            print(t_subj)\n",
    "            \n",
    "            # Skip repeats\n",
    "            if subj == t_subj:\n",
    "                continue\n",
    "            \n",
    "            # If not already run\n",
    "            if (subj, t_subj) not in cache:\n",
    "                \n",
    "                # Calc\n",
    "                difs = compare_subjs(subj, t_subj)\n",
    "                \n",
    "                # Add to cache\n",
    "                cache[(subj, t_subj)] = difs\n",
    "                cache[(t_subj, subj)] = difs\n",
    "\n",
    "            # Add\n",
    "            subj_difs.append(cache[(subj, t_subj)])\n",
    "        \n",
    "        # Add mean across rois\n",
    "        all_difs.append(np.mean(subj_difs, axis=0))\n",
    "        \n",
    "    return all_difs"
   ]
  },
  {
   "cell_type": "code",
   "execution_count": 5,
   "id": "improving-encyclopedia",
   "metadata": {},
   "outputs": [
    {
     "name": "stdout",
     "output_type": "stream",
     "text": [
      "data/ds003097/derivatives/freesurfer/sub-0265\n",
      "data/ds003097/derivatives/freesurfer/sub-0265\n",
      "data/ds003097/derivatives/freesurfer/sub-0856\n",
      "data/ds003097/derivatives/freesurfer/sub-0208\n",
      "data/ds003097/derivatives/freesurfer/sub-0856\n",
      "data/ds003097/derivatives/freesurfer/sub-0265\n",
      "data/ds003097/derivatives/freesurfer/sub-0856\n",
      "data/ds003097/derivatives/freesurfer/sub-0208\n",
      "data/ds003097/derivatives/freesurfer/sub-0208\n",
      "data/ds003097/derivatives/freesurfer/sub-0265\n",
      "data/ds003097/derivatives/freesurfer/sub-0856\n",
      "data/ds003097/derivatives/freesurfer/sub-0208\n"
     ]
    }
   ],
   "source": [
    "all_difs = generate_differences(subj_drs, subj_drs)"
   ]
  }
 ],
 "metadata": {
  "kernelspec": {
   "display_name": "bpt",
   "language": "python",
   "name": "myenv"
  },
  "language_info": {
   "codemirror_mode": {
    "name": "ipython",
    "version": 3
   },
   "file_extension": ".py",
   "mimetype": "text/x-python",
   "name": "python",
   "nbconvert_exporter": "python",
   "pygments_lexer": "ipython3",
   "version": "3.9.1"
  }
 },
 "nbformat": 4,
 "nbformat_minor": 5
}
