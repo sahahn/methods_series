{
 "cells": [
  {
   "cell_type": "markdown",
   "id": "other-principle",
   "metadata": {},
   "source": [
    "## Quick Start Example\n",
    "\n",
    "This is a brief example designed to be run from the already prepared quick_start file, which just puts together some data columns + a target (age) in the same csv (the python file make_quickstart_file.py).\n",
    "\n",
    "Our main question of interest is going to be: Can cortical thickness ROIs predict participant age? "
   ]
  },
  {
   "cell_type": "code",
   "execution_count": 1,
   "id": "dense-inquiry",
   "metadata": {},
   "outputs": [],
   "source": [
    "import BPt as bp"
   ]
  },
  {
   "cell_type": "markdown",
   "id": "closing-edgar",
   "metadata": {},
   "source": [
    "As a first step, we will prepare our data into a BPt dataset object (https://sahahn.github.io/BPt/reference/api/BPt.Dataset.html). If you already familiar with the python library pandas, then you might notice that this object looks awfully simmilar to the pandas DataFrame object - and you would be right! The Dataset class is built directly ontop of the DataFrame class, just adding some extra functionality / special behavior for working with the BPt.\n",
    "\n",
    "In this minimal example, this step will be rather be simple. There are 3 different 'roles' that columns within our Dataset can take. The first 'data' is which by default every loaded column will go into, these are going to be our features that are used to predict some variable of interest (The X variable in a scikit-learn style setup). The second key role is 'target', which are going to be any of our feature(s) which we want to predict (using the columns as input variables). The last is 'non input' which as the name suggests are any variables which we do not want to ever use directly as an input / data variable. "
   ]
  },
  {
   "cell_type": "code",
   "execution_count": 2,
   "id": "demanding-russian",
   "metadata": {},
   "outputs": [
    {
     "data": {
      "text/html": [
       "<div style=\"float: left; padding: 10px;\">\n",
       "        <h3>Data</h3><div>\n",
       "<style scoped>\n",
       "    .dataframe tbody tr th:only-of-type {\n",
       "        vertical-align: middle;\n",
       "    }\n",
       "\n",
       "    .dataframe tbody tr th {\n",
       "        vertical-align: top;\n",
       "    }\n",
       "\n",
       "    .dataframe thead th {\n",
       "        text-align: right;\n",
       "    }\n",
       "</style>\n",
       "<table border=\"1\" class=\"dataframe\">\n",
       "  <thead>\n",
       "    <tr style=\"text-align: right;\">\n",
       "      <th></th>\n",
       "      <th>lh_G&amp;S_cingul-Ant_thickness</th>\n",
       "      <th>lh_G&amp;S_cingul-Mid-Ant_thickness</th>\n",
       "      <th>lh_G&amp;S_cingul-Mid-Post_thickness</th>\n",
       "      <th>lh_G&amp;S_frontomargin_thickness</th>\n",
       "      <th>lh_G&amp;S_occipital_inf_thickness</th>\n",
       "      <th>lh_G&amp;S_paracentral_thickness</th>\n",
       "      <th>lh_G&amp;S_subcentral_thickness</th>\n",
       "      <th>lh_G&amp;S_transv_frontopol_thickness</th>\n",
       "      <th>lh_G_Ins_lg&amp;S_cent_ins_thickness</th>\n",
       "      <th>lh_G_cingul-Post-dorsal_thickness</th>\n",
       "      <th>...</th>\n",
       "      <th>rh_S_parieto_occipital_thickness</th>\n",
       "      <th>rh_S_pericallosal_thickness</th>\n",
       "      <th>rh_S_postcentral_thickness</th>\n",
       "      <th>rh_S_precentral-inf-part_thickness</th>\n",
       "      <th>rh_S_precentral-sup-part_thickness</th>\n",
       "      <th>rh_S_suborbital_thickness</th>\n",
       "      <th>rh_S_subparietal_thickness</th>\n",
       "      <th>rh_S_temporal_inf_thickness</th>\n",
       "      <th>rh_S_temporal_sup_thickness</th>\n",
       "      <th>rh_S_temporal_transverse_thickness</th>\n",
       "    </tr>\n",
       "    <tr>\n",
       "      <th>participant_id</th>\n",
       "      <th></th>\n",
       "      <th></th>\n",
       "      <th></th>\n",
       "      <th></th>\n",
       "      <th></th>\n",
       "      <th></th>\n",
       "      <th></th>\n",
       "      <th></th>\n",
       "      <th></th>\n",
       "      <th></th>\n",
       "      <th></th>\n",
       "      <th></th>\n",
       "      <th></th>\n",
       "      <th></th>\n",
       "      <th></th>\n",
       "      <th></th>\n",
       "      <th></th>\n",
       "      <th></th>\n",
       "      <th></th>\n",
       "      <th></th>\n",
       "      <th></th>\n",
       "    </tr>\n",
       "  </thead>\n",
       "  <tbody>\n",
       "    <tr>\n",
       "      <th>sub-0001</th>\n",
       "      <td>2.777</td>\n",
       "      <td>2.606</td>\n",
       "      <td>2.736</td>\n",
       "      <td>1.925</td>\n",
       "      <td>2.517</td>\n",
       "      <td>2.266</td>\n",
       "      <td>2.636</td>\n",
       "      <td>2.600</td>\n",
       "      <td>3.804</td>\n",
       "      <td>2.956</td>\n",
       "      <td>...</td>\n",
       "      <td>2.052</td>\n",
       "      <td>2.152</td>\n",
       "      <td>2.038</td>\n",
       "      <td>2.425</td>\n",
       "      <td>2.324</td>\n",
       "      <td>2.273</td>\n",
       "      <td>2.588</td>\n",
       "      <td>2.548</td>\n",
       "      <td>2.465</td>\n",
       "      <td>2.675</td>\n",
       "    </tr>\n",
       "    <tr>\n",
       "      <th>sub-0002</th>\n",
       "      <td>2.888</td>\n",
       "      <td>2.658</td>\n",
       "      <td>2.493</td>\n",
       "      <td>2.405</td>\n",
       "      <td>2.340</td>\n",
       "      <td>2.400</td>\n",
       "      <td>2.849</td>\n",
       "      <td>2.724</td>\n",
       "      <td>3.455</td>\n",
       "      <td>3.202</td>\n",
       "      <td>...</td>\n",
       "      <td>2.524</td>\n",
       "      <td>2.197</td>\n",
       "      <td>1.882</td>\n",
       "      <td>2.513</td>\n",
       "      <td>2.429</td>\n",
       "      <td>2.664</td>\n",
       "      <td>2.676</td>\n",
       "      <td>2.220</td>\n",
       "      <td>2.291</td>\n",
       "      <td>2.714</td>\n",
       "    </tr>\n",
       "    <tr>\n",
       "      <th>sub-0003</th>\n",
       "      <td>2.855</td>\n",
       "      <td>2.924</td>\n",
       "      <td>2.632</td>\n",
       "      <td>2.477</td>\n",
       "      <td>2.041</td>\n",
       "      <td>2.255</td>\n",
       "      <td>2.648</td>\n",
       "      <td>2.616</td>\n",
       "      <td>3.540</td>\n",
       "      <td>2.984</td>\n",
       "      <td>...</td>\n",
       "      <td>2.265</td>\n",
       "      <td>2.975</td>\n",
       "      <td>2.066</td>\n",
       "      <td>2.410</td>\n",
       "      <td>2.579</td>\n",
       "      <td>3.494</td>\n",
       "      <td>2.375</td>\n",
       "      <td>2.625</td>\n",
       "      <td>2.497</td>\n",
       "      <td>2.674</td>\n",
       "    </tr>\n",
       "    <tr>\n",
       "      <th>sub-0004</th>\n",
       "      <td>2.968</td>\n",
       "      <td>2.576</td>\n",
       "      <td>2.593</td>\n",
       "      <td>2.179</td>\n",
       "      <td>2.137</td>\n",
       "      <td>2.366</td>\n",
       "      <td>2.885</td>\n",
       "      <td>2.736</td>\n",
       "      <td>3.334</td>\n",
       "      <td>3.211</td>\n",
       "      <td>...</td>\n",
       "      <td>2.278</td>\n",
       "      <td>2.620</td>\n",
       "      <td>1.930</td>\n",
       "      <td>2.241</td>\n",
       "      <td>2.296</td>\n",
       "      <td>3.092</td>\n",
       "      <td>2.641</td>\n",
       "      <td>2.622</td>\n",
       "      <td>2.487</td>\n",
       "      <td>2.556</td>\n",
       "    </tr>\n",
       "    <tr>\n",
       "      <th>sub-0005</th>\n",
       "      <td>3.397</td>\n",
       "      <td>2.985</td>\n",
       "      <td>2.585</td>\n",
       "      <td>2.483</td>\n",
       "      <td>2.438</td>\n",
       "      <td>2.219</td>\n",
       "      <td>2.832</td>\n",
       "      <td>2.686</td>\n",
       "      <td>3.694</td>\n",
       "      <td>3.028</td>\n",
       "      <td>...</td>\n",
       "      <td>2.192</td>\n",
       "      <td>1.853</td>\n",
       "      <td>1.938</td>\n",
       "      <td>2.445</td>\n",
       "      <td>2.218</td>\n",
       "      <td>3.712</td>\n",
       "      <td>2.360</td>\n",
       "      <td>2.402</td>\n",
       "      <td>2.442</td>\n",
       "      <td>1.864</td>\n",
       "    </tr>\n",
       "  </tbody>\n",
       "</table>\n",
       "<p>5 rows × 148 columns</p>\n",
       "</div></div>\n",
       "<div style=\"float: left; padding: 10px;\">\n",
       "        <h3>Target</h3><div>\n",
       "<style scoped>\n",
       "    .dataframe tbody tr th:only-of-type {\n",
       "        vertical-align: middle;\n",
       "    }\n",
       "\n",
       "    .dataframe tbody tr th {\n",
       "        vertical-align: top;\n",
       "    }\n",
       "\n",
       "    .dataframe thead th {\n",
       "        text-align: right;\n",
       "    }\n",
       "</style>\n",
       "<table border=\"1\" class=\"dataframe\">\n",
       "  <thead>\n",
       "    <tr style=\"text-align: right;\">\n",
       "      <th></th>\n",
       "      <th>age</th>\n",
       "    </tr>\n",
       "    <tr>\n",
       "      <th>participant_id</th>\n",
       "      <th></th>\n",
       "    </tr>\n",
       "  </thead>\n",
       "  <tbody>\n",
       "    <tr>\n",
       "      <th>sub-0001</th>\n",
       "      <td>25.50</td>\n",
       "    </tr>\n",
       "    <tr>\n",
       "      <th>sub-0002</th>\n",
       "      <td>23.25</td>\n",
       "    </tr>\n",
       "    <tr>\n",
       "      <th>sub-0003</th>\n",
       "      <td>25.00</td>\n",
       "    </tr>\n",
       "    <tr>\n",
       "      <th>sub-0004</th>\n",
       "      <td>20.00</td>\n",
       "    </tr>\n",
       "    <tr>\n",
       "      <th>sub-0005</th>\n",
       "      <td>24.75</td>\n",
       "    </tr>\n",
       "  </tbody>\n",
       "</table>\n",
       "</div></div>\n",
       "<div style=\"float: left; padding: 10px;\">\n",
       "        <h3>Non Input</h3><div>\n",
       "<style scoped>\n",
       "    .dataframe tbody tr th:only-of-type {\n",
       "        vertical-align: middle;\n",
       "    }\n",
       "\n",
       "    .dataframe tbody tr th {\n",
       "        vertical-align: top;\n",
       "    }\n",
       "\n",
       "    .dataframe thead th {\n",
       "        text-align: right;\n",
       "    }\n",
       "</style>\n",
       "<table border=\"1\" class=\"dataframe\">\n",
       "  <thead>\n",
       "    <tr style=\"text-align: right;\">\n",
       "      <th></th>\n",
       "      <th>sex</th>\n",
       "    </tr>\n",
       "    <tr>\n",
       "      <th>participant_id</th>\n",
       "      <th></th>\n",
       "    </tr>\n",
       "  </thead>\n",
       "  <tbody>\n",
       "    <tr>\n",
       "      <th>sub-0001</th>\n",
       "      <td>1</td>\n",
       "    </tr>\n",
       "    <tr>\n",
       "      <th>sub-0002</th>\n",
       "      <td>0</td>\n",
       "    </tr>\n",
       "    <tr>\n",
       "      <th>sub-0003</th>\n",
       "      <td>0</td>\n",
       "    </tr>\n",
       "    <tr>\n",
       "      <th>sub-0004</th>\n",
       "      <td>0</td>\n",
       "    </tr>\n",
       "    <tr>\n",
       "      <th>sub-0005</th>\n",
       "      <td>1</td>\n",
       "    </tr>\n",
       "  </tbody>\n",
       "</table>\n",
       "</div></div>\n"
      ],
      "text/plain": [
       "                lh_G&S_frontomargin_thickness  lh_G&S_occipital_inf_thickness  \\\n",
       "participant_id                                                                  \n",
       "sub-0001                                1.925                           2.517   \n",
       "sub-0002                                2.405                           2.340   \n",
       "sub-0003                                2.477                           2.041   \n",
       "sub-0004                                2.179                           2.137   \n",
       "sub-0005                                2.483                           2.438   \n",
       "\n",
       "                lh_G&S_paracentral_thickness  lh_G&S_subcentral_thickness  \\\n",
       "participant_id                                                              \n",
       "sub-0001                               2.266                        2.636   \n",
       "sub-0002                               2.400                        2.849   \n",
       "sub-0003                               2.255                        2.648   \n",
       "sub-0004                               2.366                        2.885   \n",
       "sub-0005                               2.219                        2.832   \n",
       "\n",
       "                lh_G&S_transv_frontopol_thickness  \\\n",
       "participant_id                                      \n",
       "sub-0001                                    2.600   \n",
       "sub-0002                                    2.724   \n",
       "sub-0003                                    2.616   \n",
       "sub-0004                                    2.736   \n",
       "sub-0005                                    2.686   \n",
       "\n",
       "                lh_G&S_cingul-Ant_thickness  lh_G&S_cingul-Mid-Ant_thickness  \\\n",
       "participant_id                                                                 \n",
       "sub-0001                              2.777                            2.606   \n",
       "sub-0002                              2.888                            2.658   \n",
       "sub-0003                              2.855                            2.924   \n",
       "sub-0004                              2.968                            2.576   \n",
       "sub-0005                              3.397                            2.985   \n",
       "\n",
       "                lh_G&S_cingul-Mid-Post_thickness  \\\n",
       "participant_id                                     \n",
       "sub-0001                                   2.736   \n",
       "sub-0002                                   2.493   \n",
       "sub-0003                                   2.632   \n",
       "sub-0004                                   2.593   \n",
       "sub-0005                                   2.585   \n",
       "\n",
       "                lh_G_cingul-Post-dorsal_thickness  \\\n",
       "participant_id                                      \n",
       "sub-0001                                    2.956   \n",
       "sub-0002                                    3.202   \n",
       "sub-0003                                    2.984   \n",
       "sub-0004                                    3.211   \n",
       "sub-0005                                    3.028   \n",
       "\n",
       "                lh_G_cingul-Post-ventral_thickness  ...  \\\n",
       "participant_id                                      ...   \n",
       "sub-0001                                     2.925  ...   \n",
       "sub-0002                                     2.868  ...   \n",
       "sub-0003                                     2.972  ...   \n",
       "sub-0004                                     2.428  ...   \n",
       "sub-0005                                     3.361  ...   \n",
       "\n",
       "                rh_S_postcentral_thickness  \\\n",
       "participant_id                               \n",
       "sub-0001                             2.038   \n",
       "sub-0002                             1.882   \n",
       "sub-0003                             2.066   \n",
       "sub-0004                             1.930   \n",
       "sub-0005                             1.938   \n",
       "\n",
       "                rh_S_precentral-inf-part_thickness  \\\n",
       "participant_id                                       \n",
       "sub-0001                                     2.425   \n",
       "sub-0002                                     2.513   \n",
       "sub-0003                                     2.410   \n",
       "sub-0004                                     2.241   \n",
       "sub-0005                                     2.445   \n",
       "\n",
       "                rh_S_precentral-sup-part_thickness  rh_S_suborbital_thickness  \\\n",
       "participant_id                                                                  \n",
       "sub-0001                                     2.324                      2.273   \n",
       "sub-0002                                     2.429                      2.664   \n",
       "sub-0003                                     2.579                      3.494   \n",
       "sub-0004                                     2.296                      3.092   \n",
       "sub-0005                                     2.218                      3.712   \n",
       "\n",
       "                rh_S_subparietal_thickness  rh_S_temporal_inf_thickness  \\\n",
       "participant_id                                                            \n",
       "sub-0001                             2.588                        2.548   \n",
       "sub-0002                             2.676                        2.220   \n",
       "sub-0003                             2.375                        2.625   \n",
       "sub-0004                             2.641                        2.622   \n",
       "sub-0005                             2.360                        2.402   \n",
       "\n",
       "                rh_S_temporal_sup_thickness  \\\n",
       "participant_id                                \n",
       "sub-0001                              2.465   \n",
       "sub-0002                              2.291   \n",
       "sub-0003                              2.497   \n",
       "sub-0004                              2.487   \n",
       "sub-0005                              2.442   \n",
       "\n",
       "                rh_S_temporal_transverse_thickness    age  sex  \n",
       "participant_id                                                  \n",
       "sub-0001                                     2.675  25.50    1  \n",
       "sub-0002                                     2.714  23.25    0  \n",
       "sub-0003                                     2.674  25.00    0  \n",
       "sub-0004                                     2.556  20.00    0  \n",
       "sub-0005                                     1.864  24.75    1  \n",
       "\n",
       "[5 rows x 150 columns]"
      ]
     },
     "execution_count": 2,
     "metadata": {},
     "output_type": "execute_result"
    }
   ],
   "source": [
    "# Load data from csv to Dataset directly - we specify the file path and which column\n",
    "# we want to be in  the index\n",
    "data = bp.read_csv('quick_start.csv', index_col='participant_id')\n",
    "\n",
    "# Specify which column is our target variable\n",
    "data = data.set_target('age')\n",
    "\n",
    "# Set sex as non-input, and as binary variable\n",
    "data = data.set_non_input('sex').to_binary('sex')\n",
    "data.head() # Just show the first 5 rows"
   ]
  },
  {
   "cell_type": "markdown",
   "id": "liked-minnesota",
   "metadata": {},
   "source": [
    "We can visualize any variable easily w/ built in plotting functions. "
   ]
  },
  {
   "cell_type": "code",
   "execution_count": 3,
   "id": "helpful-replication",
   "metadata": {},
   "outputs": [
    {
     "name": "stdout",
     "output_type": "stream",
     "text": [
      "age: 224 rows\n"
     ]
    },
    {
     "data": {
      "image/png": "[encoded data removed]",
      "text/plain": [
       "<Figure size 432x288 with 1 Axes>"
      ]
     },
     "metadata": {
      "needs_background": "light"
     },
     "output_type": "display_data"
    },
    {
     "name": "stdout",
     "output_type": "stream",
     "text": [
      "lh_G&S_cingul-Ant_thickness: 224 rows\n"
     ]
    },
    {
     "data": {
      "image/png": "[encoded data removed]",
      "text/plain": [
       "<Figure size 432x288 with 1 Axes>"
      ]
     },
     "metadata": {
      "needs_background": "light"
     },
     "output_type": "display_data"
    },
    {
     "name": "stdout",
     "output_type": "stream",
     "text": [
      "sex: 224 rows\n"
     ]
    },
    {
     "data": {
      "image/png": "[encoded data removed]",
      "text/plain": [
       "<Figure size 360x360 with 1 Axes>"
      ]
     },
     "metadata": {
      "needs_background": "light"
     },
     "output_type": "display_data"
    }
   ],
   "source": [
    "# Plot a single variables distribution at a time\n",
    "data.plot(scope=['age', 'sex', 'lh_G&S_cingul-Ant_thickness'])"
   ]
  },
  {
   "cell_type": "code",
   "execution_count": 4,
   "id": "demonstrated-jacksonville",
   "metadata": {},
   "outputs": [
    {
     "name": "stdout",
     "output_type": "stream",
     "text": [
      "sex: 224 rows\n",
      "age: 224 rows\n",
      "Plotting 224 overlap valid subjects.\n"
     ]
    },
    {
     "data": {
      "image/png": "[encoded data removed]",
      "text/plain": [
       "<Figure size 404.625x360 with 1 Axes>"
      ]
     },
     "metadata": {
      "needs_background": "light"
     },
     "output_type": "display_data"
    }
   ],
   "source": [
    "# Or we can specify that we want to look at a bi-variate plot            \n",
    "data.plot_bivar('age', 'sex')"
   ]
  },
  {
   "cell_type": "markdown",
   "id": "explicit-dublin",
   "metadata": {},
   "source": [
    "Next, we will jump in directly to a minimal machine learning example. In this case, our question of interest is can our thickness ROIs predict age, which we have already setup within our dataset by virtue of specifying all cortical thickness ROI's as role='data' and age with role='target'.\n",
    "\n",
    "To run the experiment itself, we are going to use the `evaluate` method from BPt. This method allows us to perform a number of different ML evaluations and can be customized according a large number of different parameters. In this case though, we are going to provide the bare minimum input needed, and let the default settings take care of everything else.\n",
    "\n",
    "In particular, we specify that we want to use a default ML pipeline from BPt called 'ridge_pipe' which is pre-defined pipeline based on a regularized ridge regressor w/ nested hyper-parameter search, and also we let the function know our dataset."
   ]
  },
  {
   "cell_type": "code",
   "execution_count": 5,
   "id": "offensive-documentation",
   "metadata": {},
   "outputs": [
    {
     "name": "stdout",
     "output_type": "stream",
     "text": [
      "Predicting target = age\n",
      "Using problem_type = regression\n",
      "Using scope = all (defining a total of 148 features).\n",
      "Evaluating 224 total data points.\n"
     ]
    },
    {
     "data": {
      "application/vnd.jupyter.widget-view+json": {
       "model_id": "13c32337ce66456ca9bd2759aac3cece",
       "version_major": 2,
       "version_minor": 0
      },
      "text/plain": [
       "Folds:   0%|          | 0/5 [00:00<?, ?it/s]"
      ]
     },
     "metadata": {},
     "output_type": "display_data"
    },
    {
     "name": "stdout",
     "output_type": "stream",
     "text": [
      "\n",
      "Training Set: (179, 148)\n",
      "Validation Set: (45, 148)\n",
      "Fit fold in 2.7 seconds.\n",
      "explained_variance: 0.1786\n",
      "neg_mean_squared_error: -3.17\n",
      "\n",
      "Training Set: (179, 148)\n",
      "Validation Set: (45, 148)\n",
      "Fit fold in 2.1 seconds.\n",
      "explained_variance: 0.1446\n",
      "neg_mean_squared_error: -2.19\n",
      "\n",
      "Training Set: (179, 148)\n",
      "Validation Set: (45, 148)\n",
      "Fit fold in 2.2 seconds.\n",
      "explained_variance: 0.1142\n",
      "neg_mean_squared_error: -3.44\n",
      "\n",
      "Training Set: (179, 148)\n",
      "Validation Set: (45, 148)\n",
      "Fit fold in 2.3 seconds.\n",
      "explained_variance: 0.1005\n",
      "neg_mean_squared_error: -2.66\n",
      "\n",
      "Training Set: (180, 148)\n",
      "Validation Set: (44, 148)\n",
      "Fit fold in 2.0 seconds.\n",
      "explained_variance: 0.0243\n",
      "neg_mean_squared_error: -2.65\n",
      "\n"
     ]
    }
   ],
   "source": [
    "results = bp.evaluate(pipeline='ridge_pipe', dataset=data)"
   ]
  },
  {
   "cell_type": "markdown",
   "id": "approved-parker",
   "metadata": {},
   "source": [
    "We can see from the verbose output above that 5 different Training and Validation set's were evaluated. This is because the default cross-validation behavior is to run a K-Fold cross validation with 5 folds.\n",
    "\n",
    "Next, let's look at the returned results object which we saved in variable `results`. "
   ]
  },
  {
   "cell_type": "code",
   "execution_count": 6,
   "id": "medium-chance",
   "metadata": {},
   "outputs": [
    {
     "data": {
      "text/plain": [
       "EvalResults\n",
       "------------\n",
       "explained_variance: 0.1124 ± 0.0516\n",
       "neg_mean_squared_error: -2.82 ± 0.4357\n",
       "\n",
       "Saved Attributes: ['estimators', 'preds', 'timing', 'estimator', 'train_subjects', 'val_subjects', 'feat_names', 'ps', 'mean_scores', 'std_scores', 'weighted_mean_scores', 'scores', 'fis_', 'coef_', 'cv']\n",
       "\n",
       "Avaliable Methods: ['to_pickle', 'compare', 'get_X_transform_df', 'get_inverse_fis', 'get_preds_dfs', 'subset_by', 'get_fis', 'get_coef_', 'permutation_importance']\n",
       "\n",
       "Evaluated With:\n",
       "target: age\n",
       "problem_type: regression\n",
       "scope: all\n",
       "subjects: all\n",
       "random_state: 1\n"
      ]
     },
     "execution_count": 6,
     "metadata": {},
     "output_type": "execute_result"
    }
   ],
   "source": [
    "results"
   ]
  },
  {
   "cell_type": "markdown",
   "id": "lightweight-binding",
   "metadata": {},
   "source": [
    "This object saves by default a large amount of potentially useful information from the expiriment. This includes the mean evaluation metrics, actual estimator objects, predictions made, information on feature importance and more. \n",
    "\n",
    "Let's say we want to look at feature importances. Because the model we ran was a regularized ridge regression, the importances we are going to be looking at are the beta weights from  the model. Further, because we ran a 5-fold CV, we want to look at the beta weights as averaged across each of our 5 models:"
   ]
  },
  {
   "cell_type": "code",
   "execution_count": 7,
   "id": "laughing-shower",
   "metadata": {},
   "outputs": [
    {
     "data": {
      "text/plain": [
       "lh_G&S_cingul-Ant_thickness           0.035434\n",
       "lh_G&S_cingul-Mid-Ant_thickness      -0.117493\n",
       "lh_G&S_cingul-Mid-Post_thickness     -0.104482\n",
       "lh_G&S_frontomargin_thickness         0.021461\n",
       "lh_G&S_occipital_inf_thickness       -0.006280\n",
       "                                        ...   \n",
       "rh_S_suborbital_thickness            -0.036355\n",
       "rh_S_subparietal_thickness           -0.020749\n",
       "rh_S_temporal_inf_thickness           0.021025\n",
       "rh_S_temporal_sup_thickness          -0.003753\n",
       "rh_S_temporal_transverse_thickness   -0.070986\n",
       "Length: 148, dtype: float32"
      ]
     },
     "execution_count": 7,
     "metadata": {},
     "output_type": "execute_result"
    }
   ],
   "source": [
    "fis = results.get_fis(mean=True)\n",
    "fis"
   ]
  },
  {
   "cell_type": "markdown",
   "id": "expensive-frederick",
   "metadata": {},
   "source": [
    "Next, let's plot our results. For this, we will use an \"auto-magical\" plotting function from the library neurotools (designed to compliment BPt)."
   ]
  },
  {
   "cell_type": "code",
   "execution_count": 8,
   "id": "auburn-mathematics",
   "metadata": {},
   "outputs": [
    {
     "data": {
      "image/png": "[encoded data removed]",
      "text/plain": [
       "<Figure size 1080x720 with 6 Axes>"
      ]
     },
     "metadata": {
      "needs_background": "light"
     },
     "output_type": "display_data"
    }
   ],
   "source": [
    "from neurotools.plotting import plot\n",
    "plot(fis)"
   ]
  },
  {
   "cell_type": "markdown",
   "id": "electric-college",
   "metadata": {},
   "source": [
    "This plotting function tries to basically automate everything.  This includes, as an important caveat, an automatic conversion from ROI names to their associated parcellation - which for now only supports a small number of underlying parcellations, including of course our current freesurfer based destr. parcellation.\n",
    "\n",
    "Next, we will plot the same feature importances again, but this time go a little further to add some customization. We will customize here  by adding a user-defined threshold in which to not show results under, a title and lastly specify that we want to plot results in a higher resolution surface space (rather than the auto-detected one). We will also save the figure with matplotlib"
   ]
  },
  {
   "cell_type": "code",
   "execution_count": null,
   "id": "fallen-vampire",
   "metadata": {},
   "outputs": [],
   "source": [
    "import matplotlib.pyplot as plt\n",
    "\n",
    "plot(fis,\n",
    "     threshold=.1,\n",
    "     title='Predict Age - Avg. Beta Weights',\n",
    "     space='fsaverage')\n",
    "\n",
    "plt.savefig('example.png', dpi=100)"
   ]
  },
  {
   "cell_type": "markdown",
   "id": "numerous-dietary",
   "metadata": {},
   "source": [
    "Not too bad right? Putting everything together we can perform a full analyses in just a few lines of code\n",
    "\n",
    "```\n",
    "# Load data\n",
    "data = bp.read_csv('quick_start.csv', index_col='participant_id')\n",
    "\n",
    "# Set structure\n",
    "data = data.set_target('age').set_non_input('sex').to_binary('sex')\n",
    "\n",
    "# Evaluate w/ ML\n",
    "results = bp.evaluate(pipeline='ridge_pipe', dataset=data)\n",
    "\n",
    "# Plot average beta weight\n",
    "plot(results.get_fis(mean=True))\n",
    "\n",
    "```"
   ]
  },
  {
   "cell_type": "markdown",
   "id": "burning-scoop",
   "metadata": {},
   "source": [
    "For the rest of this notebook we will take a bit of a deeper dive into some of the other features / options avaliable in BPt.\n",
    "\n",
    "Again referring to the BPtEvaluator object, we have a number of things to look at, including the estimator, e.g., what did we even run? "
   ]
  },
  {
   "cell_type": "code",
   "execution_count": null,
   "id": "altered-tackle",
   "metadata": {},
   "outputs": [],
   "source": [
    "results.estimator"
   ]
  },
  {
   "cell_type": "markdown",
   "id": "featured-sender",
   "metadata": {},
   "source": [
    "Yikes, thats a handful... another way of looking at the pipeline we ran is to look at it in the BPt pipeline object syntax rather than the raw scikit-learn style."
   ]
  },
  {
   "cell_type": "code",
   "execution_count": null,
   "id": "frequent-lebanon",
   "metadata": {},
   "outputs": [],
   "source": [
    "from BPt.default.pipelines import ridge_pipe\n",
    "\n",
    "ridge_pipe"
   ]
  },
  {
   "cell_type": "markdown",
   "id": "polished-broadcasting",
   "metadata": {},
   "source": [
    "There are of course other useful things we can do with this results object. One useful one is to be able to easily run permutation tests as a way of estimating the signifigance of our results."
   ]
  },
  {
   "cell_type": "code",
   "execution_count": null,
   "id": "motivated-surface",
   "metadata": {},
   "outputs": [],
   "source": [
    "p_values, null_dist_means, null_dist_stds = results.run_permutation_test(n_perm=10)\n",
    "p_values, null_dist_means, null_dist_stds"
   ]
  },
  {
   "cell_type": "markdown",
   "id": "ranking-genre",
   "metadata": {},
   "source": [
    "While this  is useful, it actually be a lot more powerful extend the permutations to try and test for certain assumptions. For example, we will re-run another 10 permutations, but this time we will specify that values within the target only be allowed to be swapped with other participants of the same sex. Now what we are testing in a more specific null model, one where any potential sex-age effects will be preserved within our null distribution. In this version we are essentially testing to see if sex effects are driving our observed R2. If the null dist mean is still the same as before, it is likely not, but if it is higher, than to some degree it might be. This strategy is great for multi-site data in particular.  "
   ]
  },
  {
   "cell_type": "code",
   "execution_count": null,
   "id": "infectious-working",
   "metadata": {},
   "outputs": [],
   "source": [
    "p_values, null_dist_means, null_dist_stds = results.run_permutation_test(n_perm=10, blocks=data['sex'])\n",
    "p_values, null_dist_means, null_dist_stds"
   ]
  },
  {
   "cell_type": "markdown",
   "id": "talented-miller",
   "metadata": {},
   "source": [
    "As careful user might note that in this case a number of these steps are actually redundant, e.g., we have no missing data, so no need for imputation and we have no categorical data, so no need for one hot encoding. The beauty here is that if not needed, or if out of scope given a certain input, these pipeline steps are just skipped. This is helpful for designing re-usable pipelines for different inputs!\n",
    "\n",
    "The other thing to note is that all of the BPt style objects when possible are generic to problem type also. So that means, even if we switch to a binary prediction, we can still use the same code from the ridge pipe. Let's try that now:"
   ]
  },
  {
   "cell_type": "code",
   "execution_count": null,
   "id": "prime-tobago",
   "metadata": {},
   "outputs": [],
   "source": [
    "# Change sex to a target\n",
    "data = data.set_role('sex', 'target')\n",
    "\n",
    "# We can pass either the default str, or the object itself for pipeline\n",
    "# Also note that  now that we have 2 targets, we need to specify which one we want to predict\n",
    "# Let's also add one more parameter, n_jobs, which let's use  multi-process our evaluation\n",
    "results = bp.evaluate(pipeline=ridge_pipe, \n",
    "                      dataset=data,\n",
    "                      target='sex',\n",
    "                      n_jobs=4)                     \n",
    "results                     "
   ]
  },
  {
   "cell_type": "markdown",
   "id": "requested-williams",
   "metadata": {},
   "source": [
    "Now if we look at the fully composed scikit-learn style estimator again:"
   ]
  },
  {
   "cell_type": "code",
   "execution_count": null,
   "id": "nonprofit-belief",
   "metadata": {},
   "outputs": [],
   "source": [
    "results.estimator"
   ]
  },
  {
   "cell_type": "markdown",
   "id": "iraqi-crown",
   "metadata": {},
   "source": [
    "We see that there are some changes from before, e.g., now our base model is a LogisticRegression and the set of parameters it searches over are different\n",
    "\n",
    "```\n",
    "param_distributions={'C': Log(lower=1e-05, upper=1000.0), 'class_weight': TransitionChoice([None, 'balanced'])}\n",
    "```\n",
    "\n",
    "Where before the default hyper-parameter search parameters were:\n",
    "\n",
    "```\n",
    "param_distributions={'alpha': Log(lower=0.001, upper=100000.0)}\n",
    "```\n",
    "\n",
    "On the end of the user, specifying these hyper-parameter distributions is done when building the model as just:\n",
    "```Model(obj='ridge', params=1, ...)```\n",
    "\n",
    "Where 1 refers which default distribution to select (see all choices for all supported models here: https://sahahn.github.io/BPt/options/pipeline_options/models.html). \n",
    "\n",
    "A more advanced used could also manually specify this choice as well, for example:"
   ]
  },
  {
   "cell_type": "code",
   "execution_count": null,
   "id": "continuing-identification",
   "metadata": {},
   "outputs": [],
   "source": [
    "# Make a copy of the default ridge pipeline\n",
    "our_ridge_pipe = ridge_pipe.copy()\n",
    "\n",
    "# Look in our pipeline at where the param distribution is saved\n",
    "our_ridge_pipe.steps[-1].params"
   ]
  },
  {
   "cell_type": "code",
   "execution_count": null,
   "id": "logical-interstate",
   "metadata": {},
   "outputs": [],
   "source": [
    "# Replace it with one of our choosing\n",
    "our_ridge_pipe.steps[-1].params = {'C': bp.p.Log(lower=1, upper=100)}\n",
    "\n",
    "results = bp.evaluate(pipeline=our_ridge_pipe, \n",
    "                      dataset=data,\n",
    "                      target='sex',\n",
    "                      n_jobs=4)                     \n",
    "results                     "
   ]
  },
  {
   "cell_type": "markdown",
   "id": "worthy-favorite",
   "metadata": {},
   "source": [
    "Something to keep in mind of course when performing custom hyper-parameter tuning like this is not to abuse it, re-running different choices until by chance you get a high performing results."
   ]
  },
  {
   "cell_type": "markdown",
   "id": "classified-peeing",
   "metadata": {},
   "source": [
    "We can also just as easily use custom sklearn objects as either a step in the pipeline or instead of the pipeline."
   ]
  },
  {
   "cell_type": "code",
   "execution_count": null,
   "id": "classical-wyoming",
   "metadata": {},
   "outputs": [],
   "source": [
    "from sklearn.linear_model import LogisticRegressionCV\n",
    "\n",
    "# We just need to wrap it in a Model object, so BPt\n",
    "# knows how to handle it correctly\n",
    "sk_model = bp.Model(LogisticRegressionCV())\n",
    "\n",
    "# This model ends up printing like a hundred ConvergenceWarnings\n",
    "# so note that we can mute this warnings\n",
    "results = bp.evaluate(pipeline=sk_model, \n",
    "                      dataset=data,\n",
    "                      target='sex',\n",
    "                      mute_warnings=True)                  \n",
    "results           "
   ]
  }
 ],
 "metadata": {
  "kernelspec": {
   "display_name": "bpt",
   "language": "python",
   "name": "myenv"
  },
  "language_info": {
   "codemirror_mode": {
    "name": "ipython",
    "version": 3
   },
   "file_extension": ".py",
   "mimetype": "text/x-python",
   "name": "python",
   "nbconvert_exporter": "python",
   "pygments_lexer": "ipython3",
   "version": "3.9.1"
  },
  "widgets": {
   "application/vnd.jupyter.widget-state+json": {
    "state": {
     "004a15aff054492d904972f9373730c3": {
      "model_module": "@jupyter-widgets/controls",
      "model_module_version": "1.5.0",
      "model_name": "DescriptionStyleModel",
      "state": {
       "description_width": ""
      }
     },
     "032cc0fc3e6042dbb8ed30efecd613fd": {
      "model_module": "@jupyter-widgets/base",
      "model_module_version": "1.2.0",
      "model_name": "LayoutModel",
      "state": {}
     },
     "03ce78b2d66341d386cd6b4a1d96dfec": {
      "model_module": "@jupyter-widgets/controls",
      "model_module_version": "1.5.0",
      "model_name": "DescriptionStyleModel",
      "state": {
       "description_width": ""
      }
     },
     "03ce7f5d12c04a9284ab398984a3b995": {
      "model_module": "@jupyter-widgets/controls",
      "model_module_version": "1.5.0",
      "model_name": "HTMLModel",
      "state": {
       "layout": "IPY_MODEL_be6a897ffaf749c892c77447caedf8fe",
       "style": "IPY_MODEL_004a15aff054492d904972f9373730c3",
       "value": " 1/5 [00:02&lt;00:08,  2.02s/it]"
      }
     },
     "0406459b312247c8a836e6bf06112e04": {
      "model_module": "@jupyter-widgets/controls",
      "model_module_version": "1.5.0",
      "model_name": "DescriptionStyleModel",
      "state": {
       "description_width": ""
      }
     },
     "04c7662522f7444fa14fe15058362cc4": {
      "model_module": "@jupyter-widgets/controls",
      "model_module_version": "1.5.0",
      "model_name": "HTMLModel",
      "state": {
       "layout": "IPY_MODEL_2c39df07747b45deb6b38483bc47991c",
       "style": "IPY_MODEL_a1275649f79742889fbaec66eb723497",
       "value": " 5/5 [00:09&lt;00:00,  1.93s/it]"
      }
     },
     "067dab6f46434df89019fd689ce53857": {
      "model_module": "@jupyter-widgets/controls",
      "model_module_version": "1.5.0",
      "model_name": "DescriptionStyleModel",
      "state": {
       "description_width": ""
      }
     },
     "07974af3c0f04ae691aa398f6650ad75": {
      "model_module": "@jupyter-widgets/base",
      "model_module_version": "1.2.0",
      "model_name": "LayoutModel",
      "state": {}
     },
     "079dced5bdd64c71ba87778b4f05dc7d": {
      "model_module": "@jupyter-widgets/controls",
      "model_module_version": "1.5.0",
      "model_name": "HTMLModel",
      "state": {
       "layout": "IPY_MODEL_b87b27ad1b8545afb5bd6677dc6e9128",
       "style": "IPY_MODEL_f7d61beda60245c9a46c45d16adfba91",
       "value": "Folds: 100%"
      }
     },
     "08d64dcacab04e70835ffaf509636c4e": {
      "model_module": "@jupyter-widgets/controls",
      "model_module_version": "1.5.0",
      "model_name": "DescriptionStyleModel",
      "state": {
       "description_width": ""
      }
     },
     "092e15dda66e4153938a55ec10fc8f12": {
      "model_module": "@jupyter-widgets/controls",
      "model_module_version": "1.5.0",
      "model_name": "HTMLModel",
      "state": {
       "layout": "IPY_MODEL_9122e7740ebd4ae79803116a9aa393de",
       "style": "IPY_MODEL_cc251927d10b4d4b9909392232e60f8a",
       "value": "Folds: 100%"
      }
     },
     "0a30d6f97cab4c2b9029d858b85c7363": {
      "model_module": "@jupyter-widgets/base",
      "model_module_version": "1.2.0",
      "model_name": "LayoutModel",
      "state": {}
     },
     "0cc9e0f5209e4af69143f3f9130e64be": {
      "model_module": "@jupyter-widgets/controls",
      "model_module_version": "1.5.0",
      "model_name": "HTMLModel",
      "state": {
       "layout": "IPY_MODEL_ce68545f91bc4d4282f69ed4b4e9e632",
       "style": "IPY_MODEL_e4fd723048d34c2ca758cd504fe3ba52",
       "value": " 0/5 [00:00&lt;?, ?it/s]"
      }
     },
     "10560132731c4e5a8005db349280ae1e": {
      "model_module": "@jupyter-widgets/controls",
      "model_module_version": "1.5.0",
      "model_name": "DescriptionStyleModel",
      "state": {
       "description_width": ""
      }
     },
     "10c900d7aff4469e8e79388acb5dc94a": {
      "model_module": "@jupyter-widgets/controls",
      "model_module_version": "1.5.0",
      "model_name": "HBoxModel",
      "state": {
       "children": [
        "IPY_MODEL_079dced5bdd64c71ba87778b4f05dc7d",
        "IPY_MODEL_2133a0b818c34cae9add78ce29ee69a5",
        "IPY_MODEL_efe9fc5289224433b594df1290e25bf3"
       ],
       "layout": "IPY_MODEL_ed6a4eaf63384e4081e0398d7ebd8d86"
      }
     },
     "127882d319b54524b0471edbbf0d108c": {
      "model_module": "@jupyter-widgets/controls",
      "model_module_version": "1.5.0",
      "model_name": "ProgressStyleModel",
      "state": {
       "bar_color": "#157f3b",
       "description_width": ""
      }
     },
     "132f3a55c5894d658d238811069aed51": {
      "model_module": "@jupyter-widgets/base",
      "model_module_version": "1.2.0",
      "model_name": "LayoutModel",
      "state": {}
     },
     "14b4863103d84c07b9d182a7cd2f9061": {
      "model_module": "@jupyter-widgets/base",
      "model_module_version": "1.2.0",
      "model_name": "LayoutModel",
      "state": {}
     },
     "15bce5ec55284639957d70fcfec9320f": {
      "model_module": "@jupyter-widgets/controls",
      "model_module_version": "1.5.0",
      "model_name": "FloatProgressModel",
      "state": {
       "bar_style": "success",
       "layout": "IPY_MODEL_753882463a8d414d9d412bed7c60fd5b",
       "max": 5,
       "style": "IPY_MODEL_1d0d0f223baa43599874bbe2dd592284",
       "value": 5
      }
     },
     "19135f9868e74ee3aeec1d7d0ce48a62": {
      "model_module": "@jupyter-widgets/base",
      "model_module_version": "1.2.0",
      "model_name": "LayoutModel",
      "state": {}
     },
     "1a8b960449484dba8f42920448a626b2": {
      "model_module": "@jupyter-widgets/controls",
      "model_module_version": "1.5.0",
      "model_name": "HBoxModel",
      "state": {
       "children": [
        "IPY_MODEL_ceb6d247d94a46289d4bbd6c1d23a0af",
        "IPY_MODEL_73f43a6d269241d4ab743744f3d34f31",
        "IPY_MODEL_0cc9e0f5209e4af69143f3f9130e64be"
       ],
       "layout": "IPY_MODEL_de5b3c9453ef43839e3c99e86508a177"
      }
     },
     "1bc4fb3cbb3548f49189e81a97b2447e": {
      "model_module": "@jupyter-widgets/base",
      "model_module_version": "1.2.0",
      "model_name": "LayoutModel",
      "state": {}
     },
     "1d0d0f223baa43599874bbe2dd592284": {
      "model_module": "@jupyter-widgets/controls",
      "model_module_version": "1.5.0",
      "model_name": "ProgressStyleModel",
      "state": {
       "bar_color": "#157f3b",
       "description_width": ""
      }
     },
     "1fa8e915876d49e2bd5c38f941247222": {
      "model_module": "@jupyter-widgets/base",
      "model_module_version": "1.2.0",
      "model_name": "LayoutModel",
      "state": {}
     },
     "1fdbb172a8504793af94b690b4f7683c": {
      "model_module": "@jupyter-widgets/base",
      "model_module_version": "1.2.0",
      "model_name": "LayoutModel",
      "state": {}
     },
     "200631411307467eb178f214fbe915c0": {
      "model_module": "@jupyter-widgets/controls",
      "model_module_version": "1.5.0",
      "model_name": "HTMLModel",
      "state": {
       "layout": "IPY_MODEL_3834e9b4131a4610b09b6f4d2d0a1546",
       "style": "IPY_MODEL_4f3e4ec5a91f4445b171765a4e57ce93",
       "value": "Folds: 100%"
      }
     },
     "2133a0b818c34cae9add78ce29ee69a5": {
      "model_module": "@jupyter-widgets/controls",
      "model_module_version": "1.5.0",
      "model_name": "FloatProgressModel",
      "state": {
       "bar_style": "success",
       "layout": "IPY_MODEL_4fae1b3153ab472dacf5ff23c688c082",
       "max": 5,
       "style": "IPY_MODEL_8aa1acb6dd8b4ff2914c70cea9817256",
       "value": 5
      }
     },
     "22706db441f14671836ba15da5b71eb9": {
      "model_module": "@jupyter-widgets/controls",
      "model_module_version": "1.5.0",
      "model_name": "HTMLModel",
      "state": {
       "layout": "IPY_MODEL_6539a6f4816b4d10838f412df9a4d370",
       "style": "IPY_MODEL_fb186a3adf784720a1a531747ffc1135",
       "value": " 5/5 [00:09&lt;00:00,  1.82s/it]"
      }
     },
     "24581ce444374e8a88ea721131906dba": {
      "model_module": "@jupyter-widgets/base",
      "model_module_version": "1.2.0",
      "model_name": "LayoutModel",
      "state": {}
     },
     "2604b8894aa14dd597a33cb74a4aa6a3": {
      "model_module": "@jupyter-widgets/controls",
      "model_module_version": "1.5.0",
      "model_name": "FloatProgressModel",
      "state": {
       "bar_style": "success",
       "layout": "IPY_MODEL_4f6facf5d26a40fab642d107abc35217",
       "max": 5,
       "style": "IPY_MODEL_127882d319b54524b0471edbbf0d108c",
       "value": 5
      }
     },
     "26a068e8c011440d8947286d6219dd4d": {
      "model_module": "@jupyter-widgets/base",
      "model_module_version": "1.2.0",
      "model_name": "LayoutModel",
      "state": {}
     },
     "27c48aa79cd04725a224e194846a507c": {
      "model_module": "@jupyter-widgets/controls",
      "model_module_version": "1.5.0",
      "model_name": "ProgressStyleModel",
      "state": {
       "description_width": ""
      }
     },
     "2a46b0c0e82a4e468ef850637dc9f7b4": {
      "model_module": "@jupyter-widgets/controls",
      "model_module_version": "1.5.0",
      "model_name": "HBoxModel",
      "state": {
       "children": [
        "IPY_MODEL_bf3b88a8c64e4fc0aeccd4a178322213",
        "IPY_MODEL_de9420d0be1849b1b68754c427f17b52",
        "IPY_MODEL_03ce7f5d12c04a9284ab398984a3b995"
       ],
       "layout": "IPY_MODEL_0a30d6f97cab4c2b9029d858b85c7363"
      }
     },
     "2bc0b6b468ed4dcfba2cf61540ecf2e6": {
      "model_module": "@jupyter-widgets/base",
      "model_module_version": "1.2.0",
      "model_name": "LayoutModel",
      "state": {}
     },
     "2c39df07747b45deb6b38483bc47991c": {
      "model_module": "@jupyter-widgets/base",
      "model_module_version": "1.2.0",
      "model_name": "LayoutModel",
      "state": {}
     },
     "2d2956b9c0af422481296aa461fc2e95": {
      "model_module": "@jupyter-widgets/base",
      "model_module_version": "1.2.0",
      "model_name": "LayoutModel",
      "state": {}
     },
     "2faabacb854a4e5fbad214db47893c45": {
      "model_module": "@jupyter-widgets/controls",
      "model_module_version": "1.5.0",
      "model_name": "FloatProgressModel",
      "state": {
       "bar_style": "success",
       "layout": "IPY_MODEL_4a1f4cbe59494aa1ad15f0430527a3b7",
       "max": 5,
       "style": "IPY_MODEL_f0841a41286e4cf3ba250590c4457aa7",
       "value": 5
      }
     },
     "315b696231c54307a24470576480ef6d": {
      "model_module": "@jupyter-widgets/base",
      "model_module_version": "1.2.0",
      "model_name": "LayoutModel",
      "state": {}
     },
     "3218bccae33846939d3315f97702fad8": {
      "model_module": "@jupyter-widgets/base",
      "model_module_version": "1.2.0",
      "model_name": "LayoutModel",
      "state": {}
     },
     "3397cf109d644c5bb6560723b28a83dc": {
      "model_module": "@jupyter-widgets/controls",
      "model_module_version": "1.5.0",
      "model_name": "HBoxModel",
      "state": {
       "children": [
        "IPY_MODEL_200631411307467eb178f214fbe915c0",
        "IPY_MODEL_eede2543b7e445ab991f1b27e56035bb",
        "IPY_MODEL_a8b7a01bd9444c418ffdb1c5a3c12fbd"
       ],
       "layout": "IPY_MODEL_5ccad833484f4ea1ae314d4297d0f84c"
      }
     },
     "34d55ec371e64e14a9d21a9768c2dbdc": {
      "model_module": "@jupyter-widgets/controls",
      "model_module_version": "1.5.0",
      "model_name": "ProgressStyleModel",
      "state": {
       "bar_color": "#157f3b",
       "description_width": ""
      }
     },
     "3834e9b4131a4610b09b6f4d2d0a1546": {
      "model_module": "@jupyter-widgets/base",
      "model_module_version": "1.2.0",
      "model_name": "LayoutModel",
      "state": {}
     },
     "395ef008314444249ae873c4c8800bc6": {
      "model_module": "@jupyter-widgets/controls",
      "model_module_version": "1.5.0",
      "model_name": "HBoxModel",
      "state": {
       "children": [
        "IPY_MODEL_567d00392cbe431cbd4f126ff1b16450",
        "IPY_MODEL_bc99cb677f524e038f0822c9993581f6",
        "IPY_MODEL_8055f788b54a4c6987ccb305b8774b20"
       ],
       "layout": "IPY_MODEL_56eda3c0f66647cf9e0bcff2ac3a4209"
      }
     },
     "39d61573e1664c00a138df123a7d00ac": {
      "model_module": "@jupyter-widgets/base",
      "model_module_version": "1.2.0",
      "model_name": "LayoutModel",
      "state": {}
     },
     "39d9e0c28a6049c6a5df0f1a2acc849b": {
      "model_module": "@jupyter-widgets/controls",
      "model_module_version": "1.5.0",
      "model_name": "HBoxModel",
      "state": {
       "children": [
        "IPY_MODEL_d34241ed559e464696e7096e834b5388",
        "IPY_MODEL_15bce5ec55284639957d70fcfec9320f",
        "IPY_MODEL_5a6e15de88e845ea812aeeb58d403e5e"
       ],
       "layout": "IPY_MODEL_6126268c70e1424da49c2b125398c20c"
      }
     },
     "3b34f2cd5ad54c33a69a08bfa53e98dd": {
      "model_module": "@jupyter-widgets/controls",
      "model_module_version": "1.5.0",
      "model_name": "FloatProgressModel",
      "state": {
       "bar_style": "success",
       "layout": "IPY_MODEL_1bc4fb3cbb3548f49189e81a97b2447e",
       "max": 5,
       "style": "IPY_MODEL_a68d330c51c94c60b2e70a80993f79e8",
       "value": 5
      }
     },
     "3b74aa6264504c0fa6a6de50fc95921d": {
      "model_module": "@jupyter-widgets/controls",
      "model_module_version": "1.5.0",
      "model_name": "ProgressStyleModel",
      "state": {
       "bar_color": "#157f3b",
       "description_width": ""
      }
     },
     "3e734f015a2c4b5aa82a50ac56c1e3e5": {
      "model_module": "@jupyter-widgets/base",
      "model_module_version": "1.2.0",
      "model_name": "LayoutModel",
      "state": {}
     },
     "4063ad57f84642c3a78dcec1b2304058": {
      "model_module": "@jupyter-widgets/controls",
      "model_module_version": "1.5.0",
      "model_name": "HTMLModel",
      "state": {
       "layout": "IPY_MODEL_73554d29058d4bbea609268629af988c",
       "style": "IPY_MODEL_0406459b312247c8a836e6bf06112e04",
       "value": " 5/5 [00:08&lt;00:00,  1.80s/it]"
      }
     },
     "413c880be07d4629a6f3660d31ad90cd": {
      "model_module": "@jupyter-widgets/controls",
      "model_module_version": "1.5.0",
      "model_name": "DescriptionStyleModel",
      "state": {
       "description_width": ""
      }
     },
     "42622122e91e46c59870bdc37034907a": {
      "model_module": "@jupyter-widgets/base",
      "model_module_version": "1.2.0",
      "model_name": "LayoutModel",
      "state": {}
     },
     "4689348f892a43d98c5aabb38af96c06": {
      "model_module": "@jupyter-widgets/controls",
      "model_module_version": "1.5.0",
      "model_name": "HBoxModel",
      "state": {
       "children": [
        "IPY_MODEL_50c3ac66bd924c4f80a183c378ac4d49",
        "IPY_MODEL_af7c4bee86e841bb963f957f48d7283c",
        "IPY_MODEL_d89f1d80415344bdab33404b05c522de"
       ],
       "layout": "IPY_MODEL_2d2956b9c0af422481296aa461fc2e95"
      }
     },
     "484939163c0140b891cf8167a8cdf293": {
      "model_module": "@jupyter-widgets/base",
      "model_module_version": "1.2.0",
      "model_name": "LayoutModel",
      "state": {}
     },
     "4a1f4cbe59494aa1ad15f0430527a3b7": {
      "model_module": "@jupyter-widgets/base",
      "model_module_version": "1.2.0",
      "model_name": "LayoutModel",
      "state": {}
     },
     "4a3dda4f52d64b84ad0a06435758ae87": {
      "model_module": "@jupyter-widgets/base",
      "model_module_version": "1.2.0",
      "model_name": "LayoutModel",
      "state": {}
     },
     "4a3f090b8a0a45dfbeed7beea42ceb9d": {
      "model_module": "@jupyter-widgets/controls",
      "model_module_version": "1.5.0",
      "model_name": "DescriptionStyleModel",
      "state": {
       "description_width": ""
      }
     },
     "4cbf181f94334ff5900071466c0fafe5": {
      "model_module": "@jupyter-widgets/base",
      "model_module_version": "1.2.0",
      "model_name": "LayoutModel",
      "state": {}
     },
     "4f3e4ec5a91f4445b171765a4e57ce93": {
      "model_module": "@jupyter-widgets/controls",
      "model_module_version": "1.5.0",
      "model_name": "DescriptionStyleModel",
      "state": {
       "description_width": ""
      }
     },
     "4f6facf5d26a40fab642d107abc35217": {
      "model_module": "@jupyter-widgets/base",
      "model_module_version": "1.2.0",
      "model_name": "LayoutModel",
      "state": {}
     },
     "4fae1b3153ab472dacf5ff23c688c082": {
      "model_module": "@jupyter-widgets/base",
      "model_module_version": "1.2.0",
      "model_name": "LayoutModel",
      "state": {}
     },
     "50c3ac66bd924c4f80a183c378ac4d49": {
      "model_module": "@jupyter-widgets/controls",
      "model_module_version": "1.5.0",
      "model_name": "HTMLModel",
      "state": {
       "layout": "IPY_MODEL_7caede3c38264738b6a895ada0917f03",
       "style": "IPY_MODEL_9bfae0e6878947bb8eaf805836f3ac5a",
       "value": "Folds: 100%"
      }
     },
     "5383bec7d5bd4106961bad4921ad3887": {
      "model_module": "@jupyter-widgets/controls",
      "model_module_version": "1.5.0",
      "model_name": "DescriptionStyleModel",
      "state": {
       "description_width": ""
      }
     },
     "567d00392cbe431cbd4f126ff1b16450": {
      "model_module": "@jupyter-widgets/controls",
      "model_module_version": "1.5.0",
      "model_name": "HTMLModel",
      "state": {
       "layout": "IPY_MODEL_8c2a3b3ffd3443daa822f34af0b61298",
       "style": "IPY_MODEL_03ce78b2d66341d386cd6b4a1d96dfec",
       "value": "Folds: 100%"
      }
     },
     "56eda3c0f66647cf9e0bcff2ac3a4209": {
      "model_module": "@jupyter-widgets/base",
      "model_module_version": "1.2.0",
      "model_name": "LayoutModel",
      "state": {}
     },
     "58da1876db18498eac72535fea35ea5c": {
      "model_module": "@jupyter-widgets/base",
      "model_module_version": "1.2.0",
      "model_name": "LayoutModel",
      "state": {}
     },
     "5990271de7bb4cc2ad9712031b0cd466": {
      "model_module": "@jupyter-widgets/controls",
      "model_module_version": "1.5.0",
      "model_name": "HTMLModel",
      "state": {
       "layout": "IPY_MODEL_ba6e33536c7f4b499af22f1ae00e4ebc",
       "style": "IPY_MODEL_93a060220d2f40cbabc203783264e801",
       "value": " 5/5 [00:08&lt;00:00,  1.69s/it]"
      }
     },
     "5a6e15de88e845ea812aeeb58d403e5e": {
      "model_module": "@jupyter-widgets/controls",
      "model_module_version": "1.5.0",
      "model_name": "HTMLModel",
      "state": {
       "layout": "IPY_MODEL_315b696231c54307a24470576480ef6d",
       "style": "IPY_MODEL_60ee7e8014314d028e0da10e19833f17",
       "value": " 5/5 [00:19&lt;00:00,  3.83s/it]"
      }
     },
     "5b720d7d9d43499d824cfbd728a6374d": {
      "model_module": "@jupyter-widgets/base",
      "model_module_version": "1.2.0",
      "model_name": "LayoutModel",
      "state": {}
     },
     "5c66f775c4844e039c69ff722b53f717": {
      "model_module": "@jupyter-widgets/base",
      "model_module_version": "1.2.0",
      "model_name": "LayoutModel",
      "state": {}
     },
     "5c9a0b1c74a742cc880bd2eca89b3073": {
      "model_module": "@jupyter-widgets/controls",
      "model_module_version": "1.5.0",
      "model_name": "HTMLModel",
      "state": {
       "layout": "IPY_MODEL_24581ce444374e8a88ea721131906dba",
       "style": "IPY_MODEL_b5d79105f47f4d5eaf0e54cbac206e22",
       "value": "Folds: 100%"
      }
     },
     "5ccad833484f4ea1ae314d4297d0f84c": {
      "model_module": "@jupyter-widgets/base",
      "model_module_version": "1.2.0",
      "model_name": "LayoutModel",
      "state": {}
     },
     "60ee7e8014314d028e0da10e19833f17": {
      "model_module": "@jupyter-widgets/controls",
      "model_module_version": "1.5.0",
      "model_name": "DescriptionStyleModel",
      "state": {
       "description_width": ""
      }
     },
     "6126268c70e1424da49c2b125398c20c": {
      "model_module": "@jupyter-widgets/base",
      "model_module_version": "1.2.0",
      "model_name": "LayoutModel",
      "state": {}
     },
     "6539a6f4816b4d10838f412df9a4d370": {
      "model_module": "@jupyter-widgets/base",
      "model_module_version": "1.2.0",
      "model_name": "LayoutModel",
      "state": {}
     },
     "65890ab5f56349818d643a980744b9f5": {
      "model_module": "@jupyter-widgets/controls",
      "model_module_version": "1.5.0",
      "model_name": "HTMLModel",
      "state": {
       "layout": "IPY_MODEL_fb7f37d6cd0c48e0b7a6ea9b6ad0fa26",
       "style": "IPY_MODEL_10560132731c4e5a8005db349280ae1e",
       "value": " 5/5 [00:09&lt;00:00,  1.97s/it]"
      }
     },
     "663bb428f5f7405488f45aa2a0ff96b1": {
      "model_module": "@jupyter-widgets/controls",
      "model_module_version": "1.5.0",
      "model_name": "HBoxModel",
      "state": {
       "children": [
        "IPY_MODEL_8c758ac228414852a9d6f319f77ac921",
        "IPY_MODEL_cc9f3492130e4350a24f3d09ef096f17",
        "IPY_MODEL_4063ad57f84642c3a78dcec1b2304058"
       ],
       "layout": "IPY_MODEL_3218bccae33846939d3315f97702fad8"
      }
     },
     "71c1d9f0153444bfadf92e4015128b60": {
      "model_module": "@jupyter-widgets/controls",
      "model_module_version": "1.5.0",
      "model_name": "HTMLModel",
      "state": {
       "layout": "IPY_MODEL_5b720d7d9d43499d824cfbd728a6374d",
       "style": "IPY_MODEL_780e3f3f78864b34a5e9010873372226",
       "value": "Folds: 100%"
      }
     },
     "73554d29058d4bbea609268629af988c": {
      "model_module": "@jupyter-widgets/base",
      "model_module_version": "1.2.0",
      "model_name": "LayoutModel",
      "state": {}
     },
     "73e36539318a462fa9f8f26f3e58f01e": {
      "model_module": "@jupyter-widgets/controls",
      "model_module_version": "1.5.0",
      "model_name": "HBoxModel",
      "state": {
       "children": [
        "IPY_MODEL_cf3d9834ce2042a8b6ed27280d4edf62",
        "IPY_MODEL_db1eb2f39d594ea69b3322d54e0f05b2",
        "IPY_MODEL_65890ab5f56349818d643a980744b9f5"
       ],
       "layout": "IPY_MODEL_07974af3c0f04ae691aa398f6650ad75"
      }
     },
     "73f43a6d269241d4ab743744f3d34f31": {
      "model_module": "@jupyter-widgets/controls",
      "model_module_version": "1.5.0",
      "model_name": "FloatProgressModel",
      "state": {
       "layout": "IPY_MODEL_1fdbb172a8504793af94b690b4f7683c",
       "max": 5,
       "style": "IPY_MODEL_27c48aa79cd04725a224e194846a507c"
      }
     },
     "753882463a8d414d9d412bed7c60fd5b": {
      "model_module": "@jupyter-widgets/base",
      "model_module_version": "1.2.0",
      "model_name": "LayoutModel",
      "state": {}
     },
     "780e3f3f78864b34a5e9010873372226": {
      "model_module": "@jupyter-widgets/controls",
      "model_module_version": "1.5.0",
      "model_name": "DescriptionStyleModel",
      "state": {
       "description_width": ""
      }
     },
     "7b6572bed3d14b45b8b3fc7863924bde": {
      "model_module": "@jupyter-widgets/controls",
      "model_module_version": "1.5.0",
      "model_name": "DescriptionStyleModel",
      "state": {
       "description_width": ""
      }
     },
     "7caede3c38264738b6a895ada0917f03": {
      "model_module": "@jupyter-widgets/base",
      "model_module_version": "1.2.0",
      "model_name": "LayoutModel",
      "state": {}
     },
     "8055f788b54a4c6987ccb305b8774b20": {
      "model_module": "@jupyter-widgets/controls",
      "model_module_version": "1.5.0",
      "model_name": "HTMLModel",
      "state": {
       "layout": "IPY_MODEL_032cc0fc3e6042dbb8ed30efecd613fd",
       "style": "IPY_MODEL_08d64dcacab04e70835ffaf509636c4e",
       "value": " 5/5 [00:12&lt;00:00,  2.51s/it]"
      }
     },
     "82c75dbe1f5c4553b955347440508ee0": {
      "model_module": "@jupyter-widgets/base",
      "model_module_version": "1.2.0",
      "model_name": "LayoutModel",
      "state": {}
     },
     "8429d4cc8d8a46f89633e1e2d7326f5d": {
      "model_module": "@jupyter-widgets/controls",
      "model_module_version": "1.5.0",
      "model_name": "HTMLModel",
      "state": {
       "layout": "IPY_MODEL_8fe1907f541f4812a8100b14b14456a8",
       "style": "IPY_MODEL_4a3f090b8a0a45dfbeed7beea42ceb9d",
       "value": " 5/5 [00:11&lt;00:00,  2.21s/it]"
      }
     },
     "870dbbcb4586471ab1b618328900a7ca": {
      "model_module": "@jupyter-widgets/controls",
      "model_module_version": "1.5.0",
      "model_name": "DescriptionStyleModel",
      "state": {
       "description_width": ""
      }
     },
     "8902e4248de8496fbb12654dddf9ad54": {
      "model_module": "@jupyter-widgets/controls",
      "model_module_version": "1.5.0",
      "model_name": "HTMLModel",
      "state": {
       "layout": "IPY_MODEL_d0b7a2191d6643c3a5a775b35796ed1c",
       "style": "IPY_MODEL_870dbbcb4586471ab1b618328900a7ca",
       "value": " 5/5 [00:05&lt;00:00,  1.01s/it]"
      }
     },
     "8aa1acb6dd8b4ff2914c70cea9817256": {
      "model_module": "@jupyter-widgets/controls",
      "model_module_version": "1.5.0",
      "model_name": "ProgressStyleModel",
      "state": {
       "bar_color": "#157f3b",
       "description_width": ""
      }
     },
     "8b123a70e0dc4bec8b9c725516a32977": {
      "model_module": "@jupyter-widgets/controls",
      "model_module_version": "1.5.0",
      "model_name": "HBoxModel",
      "state": {
       "children": [
        "IPY_MODEL_71c1d9f0153444bfadf92e4015128b60",
        "IPY_MODEL_2604b8894aa14dd597a33cb74a4aa6a3",
        "IPY_MODEL_8429d4cc8d8a46f89633e1e2d7326f5d"
       ],
       "layout": "IPY_MODEL_1fa8e915876d49e2bd5c38f941247222"
      }
     },
     "8c2a3b3ffd3443daa822f34af0b61298": {
      "model_module": "@jupyter-widgets/base",
      "model_module_version": "1.2.0",
      "model_name": "LayoutModel",
      "state": {}
     },
     "8c758ac228414852a9d6f319f77ac921": {
      "model_module": "@jupyter-widgets/controls",
      "model_module_version": "1.5.0",
      "model_name": "HTMLModel",
      "state": {
       "layout": "IPY_MODEL_5c66f775c4844e039c69ff722b53f717",
       "style": "IPY_MODEL_7b6572bed3d14b45b8b3fc7863924bde",
       "value": "Folds: 100%"
      }
     },
     "8e2f8acd4a984118a9372d81f1f25d17": {
      "model_module": "@jupyter-widgets/controls",
      "model_module_version": "1.5.0",
      "model_name": "DescriptionStyleModel",
      "state": {
       "description_width": ""
      }
     },
     "8fe1907f541f4812a8100b14b14456a8": {
      "model_module": "@jupyter-widgets/base",
      "model_module_version": "1.2.0",
      "model_name": "LayoutModel",
      "state": {}
     },
     "9122e7740ebd4ae79803116a9aa393de": {
      "model_module": "@jupyter-widgets/base",
      "model_module_version": "1.2.0",
      "model_name": "LayoutModel",
      "state": {}
     },
     "9377b6416986411b9f4a141563a4d47d": {
      "model_module": "@jupyter-widgets/base",
      "model_module_version": "1.2.0",
      "model_name": "LayoutModel",
      "state": {}
     },
     "93a060220d2f40cbabc203783264e801": {
      "model_module": "@jupyter-widgets/controls",
      "model_module_version": "1.5.0",
      "model_name": "DescriptionStyleModel",
      "state": {
       "description_width": ""
      }
     },
     "952ffd836985476e81268a4255d45d77": {
      "model_module": "@jupyter-widgets/controls",
      "model_module_version": "1.5.0",
      "model_name": "HTMLModel",
      "state": {
       "layout": "IPY_MODEL_fb97095edcd2455aab5e7d4c8011e5cb",
       "style": "IPY_MODEL_5383bec7d5bd4106961bad4921ad3887",
       "value": "Folds: 100%"
      }
     },
     "95c23209482c424896896614596664a3": {
      "model_module": "@jupyter-widgets/controls",
      "model_module_version": "1.5.0",
      "model_name": "HBoxModel",
      "state": {
       "children": [
        "IPY_MODEL_952ffd836985476e81268a4255d45d77",
        "IPY_MODEL_2faabacb854a4e5fbad214db47893c45",
        "IPY_MODEL_d2fe94c0fe2f407bbb777a85c184585c"
       ],
       "layout": "IPY_MODEL_58da1876db18498eac72535fea35ea5c"
      }
     },
     "98023dec7dd24d89b4464bb4daf61119": {
      "model_module": "@jupyter-widgets/controls",
      "model_module_version": "1.5.0",
      "model_name": "ProgressStyleModel",
      "state": {
       "bar_color": "#157f3b",
       "description_width": ""
      }
     },
     "9a8b9e785c594568a87c3d509a860d7d": {
      "model_module": "@jupyter-widgets/controls",
      "model_module_version": "1.5.0",
      "model_name": "HBoxModel",
      "state": {
       "children": [
        "IPY_MODEL_092e15dda66e4153938a55ec10fc8f12",
        "IPY_MODEL_f5443af71c714e96aec392662879d579",
        "IPY_MODEL_04c7662522f7444fa14fe15058362cc4"
       ],
       "layout": "IPY_MODEL_c3367bf72ef443cc9027b0252542beb4"
      }
     },
     "9b4f9225c6df481fb651676f7545407b": {
      "model_module": "@jupyter-widgets/controls",
      "model_module_version": "1.5.0",
      "model_name": "DescriptionStyleModel",
      "state": {
       "description_width": ""
      }
     },
     "9b86f2a94fc4460a8bb4df41db17bafb": {
      "model_module": "@jupyter-widgets/base",
      "model_module_version": "1.2.0",
      "model_name": "LayoutModel",
      "state": {}
     },
     "9bfae0e6878947bb8eaf805836f3ac5a": {
      "model_module": "@jupyter-widgets/controls",
      "model_module_version": "1.5.0",
      "model_name": "DescriptionStyleModel",
      "state": {
       "description_width": ""
      }
     },
     "a1275649f79742889fbaec66eb723497": {
      "model_module": "@jupyter-widgets/controls",
      "model_module_version": "1.5.0",
      "model_name": "DescriptionStyleModel",
      "state": {
       "description_width": ""
      }
     },
     "a1be84447b9f40ff879da03db5b8e201": {
      "model_module": "@jupyter-widgets/base",
      "model_module_version": "1.2.0",
      "model_name": "LayoutModel",
      "state": {}
     },
     "a39ee7e3908b4971a366ba6133aed7be": {
      "model_module": "@jupyter-widgets/controls",
      "model_module_version": "1.5.0",
      "model_name": "DescriptionStyleModel",
      "state": {
       "description_width": ""
      }
     },
     "a5b41071b6174df0a63f0fd9ab0f2463": {
      "model_module": "@jupyter-widgets/controls",
      "model_module_version": "1.5.0",
      "model_name": "HBoxModel",
      "state": {
       "children": [
        "IPY_MODEL_5c9a0b1c74a742cc880bd2eca89b3073",
        "IPY_MODEL_f9f0d0b997b34da5b38e371170d568f9",
        "IPY_MODEL_22706db441f14671836ba15da5b71eb9"
       ],
       "layout": "IPY_MODEL_2bc0b6b468ed4dcfba2cf61540ecf2e6"
      }
     },
     "a6383ec1d7b8463394f05f605fc12ab3": {
      "model_module": "@jupyter-widgets/controls",
      "model_module_version": "1.5.0",
      "model_name": "ProgressStyleModel",
      "state": {
       "bar_color": "#157f3b",
       "description_width": ""
      }
     },
     "a68d330c51c94c60b2e70a80993f79e8": {
      "model_module": "@jupyter-widgets/controls",
      "model_module_version": "1.5.0",
      "model_name": "ProgressStyleModel",
      "state": {
       "bar_color": "#157f3b",
       "description_width": ""
      }
     },
     "a8b7a01bd9444c418ffdb1c5a3c12fbd": {
      "model_module": "@jupyter-widgets/controls",
      "model_module_version": "1.5.0",
      "model_name": "HTMLModel",
      "state": {
       "layout": "IPY_MODEL_4cbf181f94334ff5900071466c0fafe5",
       "style": "IPY_MODEL_f662329db22e4f25a981abb723c5b1a2",
       "value": " 5/5 [00:13&lt;00:00,  2.66s/it]"
      }
     },
     "af7c4bee86e841bb963f957f48d7283c": {
      "model_module": "@jupyter-widgets/controls",
      "model_module_version": "1.5.0",
      "model_name": "FloatProgressModel",
      "state": {
       "bar_style": "success",
       "layout": "IPY_MODEL_14b4863103d84c07b9d182a7cd2f9061",
       "max": 5,
       "style": "IPY_MODEL_a6383ec1d7b8463394f05f605fc12ab3",
       "value": 5
      }
     },
     "b465c22591734250bb0798142573c6ff": {
      "model_module": "@jupyter-widgets/base",
      "model_module_version": "1.2.0",
      "model_name": "LayoutModel",
      "state": {}
     },
     "b49203eee6964ff5ad7c8eb8f7510c6c": {
      "model_module": "@jupyter-widgets/controls",
      "model_module_version": "1.5.0",
      "model_name": "DescriptionStyleModel",
      "state": {
       "description_width": ""
      }
     },
     "b5d79105f47f4d5eaf0e54cbac206e22": {
      "model_module": "@jupyter-widgets/controls",
      "model_module_version": "1.5.0",
      "model_name": "DescriptionStyleModel",
      "state": {
       "description_width": ""
      }
     },
     "b87b27ad1b8545afb5bd6677dc6e9128": {
      "model_module": "@jupyter-widgets/base",
      "model_module_version": "1.2.0",
      "model_name": "LayoutModel",
      "state": {}
     },
     "ba6e33536c7f4b499af22f1ae00e4ebc": {
      "model_module": "@jupyter-widgets/base",
      "model_module_version": "1.2.0",
      "model_name": "LayoutModel",
      "state": {}
     },
     "bc99cb677f524e038f0822c9993581f6": {
      "model_module": "@jupyter-widgets/controls",
      "model_module_version": "1.5.0",
      "model_name": "FloatProgressModel",
      "state": {
       "bar_style": "success",
       "layout": "IPY_MODEL_b465c22591734250bb0798142573c6ff",
       "max": 5,
       "style": "IPY_MODEL_e1fc9f8741cb4fb4b080706e2d79af6f",
       "value": 5
      }
     },
     "bd2b21f169f0473b901801517336a56f": {
      "model_module": "@jupyter-widgets/controls",
      "model_module_version": "1.5.0",
      "model_name": "HTMLModel",
      "state": {
       "layout": "IPY_MODEL_d41e29d0bb9d436e960df6d096e33b8e",
       "style": "IPY_MODEL_c0173a9eef6f4508acbd576d4fb549d0",
       "value": "Folds: 100%"
      }
     },
     "bd4e0a1c40d8496bbc69d489febf5dc9": {
      "model_module": "@jupyter-widgets/controls",
      "model_module_version": "1.5.0",
      "model_name": "ProgressStyleModel",
      "state": {
       "bar_color": "#157f3b",
       "description_width": ""
      }
     },
     "be6a897ffaf749c892c77447caedf8fe": {
      "model_module": "@jupyter-widgets/base",
      "model_module_version": "1.2.0",
      "model_name": "LayoutModel",
      "state": {}
     },
     "bf3b88a8c64e4fc0aeccd4a178322213": {
      "model_module": "@jupyter-widgets/controls",
      "model_module_version": "1.5.0",
      "model_name": "HTMLModel",
      "state": {
       "layout": "IPY_MODEL_e8987520be3748428ecfc3f1d813fb61",
       "style": "IPY_MODEL_067dab6f46434df89019fd689ce53857",
       "value": "Folds:  20%"
      }
     },
     "c0173a9eef6f4508acbd576d4fb549d0": {
      "model_module": "@jupyter-widgets/controls",
      "model_module_version": "1.5.0",
      "model_name": "DescriptionStyleModel",
      "state": {
       "description_width": ""
      }
     },
     "c3367bf72ef443cc9027b0252542beb4": {
      "model_module": "@jupyter-widgets/base",
      "model_module_version": "1.2.0",
      "model_name": "LayoutModel",
      "state": {}
     },
     "cc251927d10b4d4b9909392232e60f8a": {
      "model_module": "@jupyter-widgets/controls",
      "model_module_version": "1.5.0",
      "model_name": "DescriptionStyleModel",
      "state": {
       "description_width": ""
      }
     },
     "cc9f3492130e4350a24f3d09ef096f17": {
      "model_module": "@jupyter-widgets/controls",
      "model_module_version": "1.5.0",
      "model_name": "FloatProgressModel",
      "state": {
       "bar_style": "success",
       "layout": "IPY_MODEL_484939163c0140b891cf8167a8cdf293",
       "max": 5,
       "style": "IPY_MODEL_3b74aa6264504c0fa6a6de50fc95921d",
       "value": 5
      }
     },
     "ce68545f91bc4d4282f69ed4b4e9e632": {
      "model_module": "@jupyter-widgets/base",
      "model_module_version": "1.2.0",
      "model_name": "LayoutModel",
      "state": {}
     },
     "ceb6d247d94a46289d4bbd6c1d23a0af": {
      "model_module": "@jupyter-widgets/controls",
      "model_module_version": "1.5.0",
      "model_name": "HTMLModel",
      "state": {
       "layout": "IPY_MODEL_3e734f015a2c4b5aa82a50ac56c1e3e5",
       "style": "IPY_MODEL_a39ee7e3908b4971a366ba6133aed7be",
       "value": "Folds:   0%"
      }
     },
     "cf3d9834ce2042a8b6ed27280d4edf62": {
      "model_module": "@jupyter-widgets/controls",
      "model_module_version": "1.5.0",
      "model_name": "HTMLModel",
      "state": {
       "layout": "IPY_MODEL_4a3dda4f52d64b84ad0a06435758ae87",
       "style": "IPY_MODEL_8e2f8acd4a984118a9372d81f1f25d17",
       "value": "Folds: 100%"
      }
     },
     "d0b7a2191d6643c3a5a775b35796ed1c": {
      "model_module": "@jupyter-widgets/base",
      "model_module_version": "1.2.0",
      "model_name": "LayoutModel",
      "state": {}
     },
     "d2c6f0c2431f4f24ba433548675b4e21": {
      "model_module": "@jupyter-widgets/base",
      "model_module_version": "1.2.0",
      "model_name": "LayoutModel",
      "state": {}
     },
     "d2fe94c0fe2f407bbb777a85c184585c": {
      "model_module": "@jupyter-widgets/controls",
      "model_module_version": "1.5.0",
      "model_name": "HTMLModel",
      "state": {
       "layout": "IPY_MODEL_132f3a55c5894d658d238811069aed51",
       "style": "IPY_MODEL_b49203eee6964ff5ad7c8eb8f7510c6c",
       "value": " 5/5 [00:11&lt;00:00,  2.37s/it]"
      }
     },
     "d34241ed559e464696e7096e834b5388": {
      "model_module": "@jupyter-widgets/controls",
      "model_module_version": "1.5.0",
      "model_name": "HTMLModel",
      "state": {
       "layout": "IPY_MODEL_26a068e8c011440d8947286d6219dd4d",
       "style": "IPY_MODEL_fc374df1bf4e4c04b8ae5488b077704e",
       "value": "Folds: 100%"
      }
     },
     "d41e29d0bb9d436e960df6d096e33b8e": {
      "model_module": "@jupyter-widgets/base",
      "model_module_version": "1.2.0",
      "model_name": "LayoutModel",
      "state": {}
     },
     "d7349c763d3546e0a4c2611ea6bab37b": {
      "model_module": "@jupyter-widgets/base",
      "model_module_version": "1.2.0",
      "model_name": "LayoutModel",
      "state": {}
     },
     "d89f1d80415344bdab33404b05c522de": {
      "model_module": "@jupyter-widgets/controls",
      "model_module_version": "1.5.0",
      "model_name": "HTMLModel",
      "state": {
       "layout": "IPY_MODEL_39d61573e1664c00a138df123a7d00ac",
       "style": "IPY_MODEL_fe2f407eb5d2420fbd367803ec976b72",
       "value": " 5/5 [00:10&lt;00:00,  2.06s/it]"
      }
     },
     "db1eb2f39d594ea69b3322d54e0f05b2": {
      "model_module": "@jupyter-widgets/controls",
      "model_module_version": "1.5.0",
      "model_name": "FloatProgressModel",
      "state": {
       "bar_style": "success",
       "layout": "IPY_MODEL_d2c6f0c2431f4f24ba433548675b4e21",
       "max": 5,
       "style": "IPY_MODEL_db208a200f164feaa47215365cc6930f",
       "value": 5
      }
     },
     "db208a200f164feaa47215365cc6930f": {
      "model_module": "@jupyter-widgets/controls",
      "model_module_version": "1.5.0",
      "model_name": "ProgressStyleModel",
      "state": {
       "bar_color": "#157f3b",
       "description_width": ""
      }
     },
     "de5b3c9453ef43839e3c99e86508a177": {
      "model_module": "@jupyter-widgets/base",
      "model_module_version": "1.2.0",
      "model_name": "LayoutModel",
      "state": {}
     },
     "de9420d0be1849b1b68754c427f17b52": {
      "model_module": "@jupyter-widgets/controls",
      "model_module_version": "1.5.0",
      "model_name": "FloatProgressModel",
      "state": {
       "layout": "IPY_MODEL_82c75dbe1f5c4553b955347440508ee0",
       "max": 5,
       "style": "IPY_MODEL_e69c002ad5684137a9d2759eff92297a",
       "value": 1
      }
     },
     "dec677040d81423b920e7da188f58759": {
      "model_module": "@jupyter-widgets/base",
      "model_module_version": "1.2.0",
      "model_name": "LayoutModel",
      "state": {}
     },
     "e04c46a387894bbcb81198599017ae9b": {
      "model_module": "@jupyter-widgets/controls",
      "model_module_version": "1.5.0",
      "model_name": "HTMLModel",
      "state": {
       "layout": "IPY_MODEL_19135f9868e74ee3aeec1d7d0ce48a62",
       "style": "IPY_MODEL_413c880be07d4629a6f3660d31ad90cd",
       "value": "Folds: 100%"
      }
     },
     "e1fc9f8741cb4fb4b080706e2d79af6f": {
      "model_module": "@jupyter-widgets/controls",
      "model_module_version": "1.5.0",
      "model_name": "ProgressStyleModel",
      "state": {
       "bar_color": "#157f3b",
       "description_width": ""
      }
     },
     "e4fd723048d34c2ca758cd504fe3ba52": {
      "model_module": "@jupyter-widgets/controls",
      "model_module_version": "1.5.0",
      "model_name": "DescriptionStyleModel",
      "state": {
       "description_width": ""
      }
     },
     "e69c002ad5684137a9d2759eff92297a": {
      "model_module": "@jupyter-widgets/controls",
      "model_module_version": "1.5.0",
      "model_name": "ProgressStyleModel",
      "state": {
       "bar_color": "#9fdacc",
       "description_width": ""
      }
     },
     "e8987520be3748428ecfc3f1d813fb61": {
      "model_module": "@jupyter-widgets/base",
      "model_module_version": "1.2.0",
      "model_name": "LayoutModel",
      "state": {}
     },
     "ed6a4eaf63384e4081e0398d7ebd8d86": {
      "model_module": "@jupyter-widgets/base",
      "model_module_version": "1.2.0",
      "model_name": "LayoutModel",
      "state": {}
     },
     "edd74cc209bb4dbe9ebed0f1f7ec18f2": {
      "model_module": "@jupyter-widgets/controls",
      "model_module_version": "1.5.0",
      "model_name": "ProgressStyleModel",
      "state": {
       "bar_color": "#157f3b",
       "description_width": ""
      }
     },
     "eede2543b7e445ab991f1b27e56035bb": {
      "model_module": "@jupyter-widgets/controls",
      "model_module_version": "1.5.0",
      "model_name": "FloatProgressModel",
      "state": {
       "bar_style": "success",
       "layout": "IPY_MODEL_42622122e91e46c59870bdc37034907a",
       "max": 5,
       "style": "IPY_MODEL_34d55ec371e64e14a9d21a9768c2dbdc",
       "value": 5
      }
     },
     "efe9fc5289224433b594df1290e25bf3": {
      "model_module": "@jupyter-widgets/controls",
      "model_module_version": "1.5.0",
      "model_name": "HTMLModel",
      "state": {
       "layout": "IPY_MODEL_d7349c763d3546e0a4c2611ea6bab37b",
       "style": "IPY_MODEL_9b4f9225c6df481fb651676f7545407b",
       "value": " 5/5 [00:11&lt;00:00,  2.33s/it]"
      }
     },
     "f0841a41286e4cf3ba250590c4457aa7": {
      "model_module": "@jupyter-widgets/controls",
      "model_module_version": "1.5.0",
      "model_name": "ProgressStyleModel",
      "state": {
       "bar_color": "#157f3b",
       "description_width": ""
      }
     },
     "f5443af71c714e96aec392662879d579": {
      "model_module": "@jupyter-widgets/controls",
      "model_module_version": "1.5.0",
      "model_name": "FloatProgressModel",
      "state": {
       "bar_style": "success",
       "layout": "IPY_MODEL_fb5fc069bb1b4c799fcde2723bf3cf80",
       "max": 5,
       "style": "IPY_MODEL_edd74cc209bb4dbe9ebed0f1f7ec18f2",
       "value": 5
      }
     },
     "f662329db22e4f25a981abb723c5b1a2": {
      "model_module": "@jupyter-widgets/controls",
      "model_module_version": "1.5.0",
      "model_name": "DescriptionStyleModel",
      "state": {
       "description_width": ""
      }
     },
     "f684f66900b44f29800a9ddae28eee68": {
      "model_module": "@jupyter-widgets/controls",
      "model_module_version": "1.5.0",
      "model_name": "FloatProgressModel",
      "state": {
       "bar_style": "success",
       "layout": "IPY_MODEL_a1be84447b9f40ff879da03db5b8e201",
       "max": 5,
       "style": "IPY_MODEL_bd4e0a1c40d8496bbc69d489febf5dc9",
       "value": 5
      }
     },
     "f7d61beda60245c9a46c45d16adfba91": {
      "model_module": "@jupyter-widgets/controls",
      "model_module_version": "1.5.0",
      "model_name": "DescriptionStyleModel",
      "state": {
       "description_width": ""
      }
     },
     "f9f0d0b997b34da5b38e371170d568f9": {
      "model_module": "@jupyter-widgets/controls",
      "model_module_version": "1.5.0",
      "model_name": "FloatProgressModel",
      "state": {
       "bar_style": "success",
       "layout": "IPY_MODEL_9377b6416986411b9f4a141563a4d47d",
       "max": 5,
       "style": "IPY_MODEL_98023dec7dd24d89b4464bb4daf61119",
       "value": 5
      }
     },
     "fb186a3adf784720a1a531747ffc1135": {
      "model_module": "@jupyter-widgets/controls",
      "model_module_version": "1.5.0",
      "model_name": "DescriptionStyleModel",
      "state": {
       "description_width": ""
      }
     },
     "fb5fc069bb1b4c799fcde2723bf3cf80": {
      "model_module": "@jupyter-widgets/base",
      "model_module_version": "1.2.0",
      "model_name": "LayoutModel",
      "state": {}
     },
     "fb7f37d6cd0c48e0b7a6ea9b6ad0fa26": {
      "model_module": "@jupyter-widgets/base",
      "model_module_version": "1.2.0",
      "model_name": "LayoutModel",
      "state": {}
     },
     "fb97095edcd2455aab5e7d4c8011e5cb": {
      "model_module": "@jupyter-widgets/base",
      "model_module_version": "1.2.0",
      "model_name": "LayoutModel",
      "state": {}
     },
     "fc374df1bf4e4c04b8ae5488b077704e": {
      "model_module": "@jupyter-widgets/controls",
      "model_module_version": "1.5.0",
      "model_name": "DescriptionStyleModel",
      "state": {
       "description_width": ""
      }
     },
     "fcf8f32020d74df5bbee19c8e0c696a7": {
      "model_module": "@jupyter-widgets/controls",
      "model_module_version": "1.5.0",
      "model_name": "HBoxModel",
      "state": {
       "children": [
        "IPY_MODEL_e04c46a387894bbcb81198599017ae9b",
        "IPY_MODEL_3b34f2cd5ad54c33a69a08bfa53e98dd",
        "IPY_MODEL_5990271de7bb4cc2ad9712031b0cd466"
       ],
       "layout": "IPY_MODEL_9b86f2a94fc4460a8bb4df41db17bafb"
      }
     },
     "fdb23ea12dc24204826071c9feff2d36": {
      "model_module": "@jupyter-widgets/controls",
      "model_module_version": "1.5.0",
      "model_name": "HBoxModel",
      "state": {
       "children": [
        "IPY_MODEL_bd2b21f169f0473b901801517336a56f",
        "IPY_MODEL_f684f66900b44f29800a9ddae28eee68",
        "IPY_MODEL_8902e4248de8496fbb12654dddf9ad54"
       ],
       "layout": "IPY_MODEL_dec677040d81423b920e7da188f58759"
      }
     },
     "fe2f407eb5d2420fbd367803ec976b72": {
      "model_module": "@jupyter-widgets/controls",
      "model_module_version": "1.5.0",
      "model_name": "DescriptionStyleModel",
      "state": {
       "description_width": ""
      }
     }
    },
    "version_major": 2,
    "version_minor": 0
   }
  }
 },
 "nbformat": 4,
 "nbformat_minor": 5
}
