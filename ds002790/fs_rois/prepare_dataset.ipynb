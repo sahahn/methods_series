{
 "cells": [
  {
   "cell_type": "code",
   "execution_count": 1,
   "id": "fantastic-devil",
   "metadata": {},
   "outputs": [],
   "source": [
    "from os.path import dirname, abspath\n",
    "import pandas as pd\n",
    "import os\n",
    "import BPt as bp"
   ]
  },
  {
   "cell_type": "code",
   "execution_count": 2,
   "id": "regular-madagascar",
   "metadata": {},
   "outputs": [],
   "source": [
    "# Directories\n",
    "main_dr = dirname(dirname(abspath(os.getcwd())))\n",
    "saves_dr = os.path.join(dirname(os.getcwd()), 'datasets')\n",
    "data_dr = os.path.join(main_dr, 'data')\n",
    "deriv_dr = os.path.join(data_dr, 'ds002790', 'derivatives')\n",
    "fs_stats_dr = os.path.join(deriv_dr, 'fs_stats')"
   ]
  },
  {
   "cell_type": "code",
   "execution_count": 3,
   "id": "precious-median",
   "metadata": {},
   "outputs": [],
   "source": [
    "def load(loc):\n",
    "    \n",
    "    # Load as dataframe\n",
    "    data = pd.read_csv(loc, sep='\\t')\n",
    "    name = list(data)[0]\n",
    "    \n",
    "    # Set to correct index\n",
    "    data = data.set_index(list(data)[0])\n",
    "    \n",
    "    # Change index name\n",
    "    data.index.name = 'participant_id'\n",
    "    \n",
    "    # Add name to columns\n",
    "    new_col_names = {col: name + '_' + col for col in list(data)}\n",
    "    data = data.rename(new_col_names, axis=1)\n",
    "    \n",
    "    return data\n",
    "\n",
    "# Get just files related to destr parcellation\n",
    "files = [os.path.join(fs_stats_dr, file)\n",
    "         for file in os.listdir(fs_stats_dr) if '.a2009s' in file]\n",
    "\n",
    "# Load and concat\n",
    "rois = pd.concat([load(file) for file in files], axis=1)"
   ]
  },
  {
   "cell_type": "code",
   "execution_count": 10,
   "id": "superb-heath",
   "metadata": {},
   "outputs": [
    {
     "data": {
      "text/plain": [
       "['/home/sage/methods_series/data/ds002790/derivatives/fs_stats/data-cortical_type-aparc.a2009s_measure-meancurv_hemi-lh.tsv',\n",
       " '/home/sage/methods_series/data/ds002790/derivatives/fs_stats/data-cortical_type-aparc.a2009s_measure-volume_hemi-rh.tsv',\n",
       " '/home/sage/methods_series/data/ds002790/derivatives/fs_stats/data-cortical_type-aparc.a2009s_measure-volume_hemi-lh.tsv',\n",
       " '/home/sage/methods_series/data/ds002790/derivatives/fs_stats/data-cortical_type-aparc.a2009s_measure-meancurv_hemi-rh.tsv',\n",
       " '/home/sage/methods_series/data/ds002790/derivatives/fs_stats/data-cortical_type-aparc.a2009s_measure-thickness_hemi-lh.tsv',\n",
       " '/home/sage/methods_series/data/ds002790/derivatives/fs_stats/data-cortical_type-aparc.a2009s_measure-thickness_hemi-rh.tsv',\n",
       " '/home/sage/methods_series/data/ds002790/derivatives/fs_stats/data-cortical_type-aparc.a2009s_measure-area_hemi-rh.tsv',\n",
       " '/home/sage/methods_series/data/ds002790/derivatives/fs_stats/data-cortical_type-aparc.a2009s_measure-area_hemi-lh.tsv']"
      ]
     },
     "execution_count": 10,
     "metadata": {},
     "output_type": "execute_result"
    }
   ],
   "source": [
    "files"
   ]
  },
  {
   "cell_type": "code",
   "execution_count": 6,
   "id": "phantom-trout",
   "metadata": {},
   "outputs": [],
   "source": [
    "# Load the base template dataframe with targets loaded\n",
    "data = bp.read_pickle(os.path.join(saves_dr, 'template.dataset'))\n",
    "\n",
    "# Concatenate w/ the loaded rois\n",
    "data = bp.concat([data, bp.Dataset(rois)], axis=1)\n",
    "\n",
    "# Save w/ pickle under datasets dr\n",
    "data.to_pickle(os.path.join(saves_dr, 'fs_rois.dataset'))"
   ]
  },
  {
   "cell_type": "code",
   "execution_count": null,
   "id": "engaged-portfolio",
   "metadata": {},
   "outputs": [],
   "source": []
  }
 ],
 "metadata": {
  "kernelspec": {
   "display_name": "Python 3.9.1 64-bit ('bpt': conda)",
   "language": "python",
   "name": "python391jvsc74a57bd0816e2859f723fb77ad3214da0fbda681e8d4db93bd8b118618b521c0b1f5f48f"
  },
  "language_info": {
   "codemirror_mode": {
    "name": "ipython",
    "version": 3
   },
   "file_extension": ".py",
   "mimetype": "text/x-python",
   "name": "python",
   "nbconvert_exporter": "python",
   "pygments_lexer": "ipython3",
   "version": "3.9.1"
  }
 },
 "nbformat": 4,
 "nbformat_minor": 5
}
